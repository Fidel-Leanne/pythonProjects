{
 "cells": [
  {
   "cell_type": "code",
   "execution_count": 2,
   "id": "9d130c77",
   "metadata": {},
   "outputs": [
    {
     "data": {
      "text/plain": [
       "int"
      ]
     },
     "execution_count": 2,
     "metadata": {},
     "output_type": "execute_result"
    }
   ],
   "source": [
    "type(7)"
   ]
  },
  {
   "cell_type": "markdown",
   "id": "17503ae3",
   "metadata": {},
   "source": [
    "Strings "
   ]
  },
  {
   "cell_type": "code",
   "execution_count": 13,
   "id": "b549d0eb",
   "metadata": {},
   "outputs": [
    {
     "name": "stdout",
     "output_type": "stream",
     "text": [
      "fidelia\n",
      "kdwckancakncakcna,kc\n",
      "kasnc asknc aklvcadlcklcaC \n"
     ]
    }
   ],
   "source": [
    "name= \"fidelia\"\n",
    "\n",
    "newLine=\"\"\"kdwckancakncakcna,kc\n",
    "kasnc asknc aklvcadlcklcaC \"\"\" #multiline string\n",
    "\n",
    "print(name)\n",
    "print(newLine)\n"
   ]
  },
  {
   "cell_type": "code",
   "execution_count": 3,
   "id": "d7202760",
   "metadata": {},
   "outputs": [
    {
     "name": "stdout",
     "output_type": "stream",
     "text": [
      "fidelia\n",
      "i\n",
      "My name is fidelia . i am 13 years old\n"
     ]
    }
   ],
   "source": [
    "#strings are Arrays\n",
    "\n",
    "newString=input('TELL ME YOUR NAME')\n",
    "print(newString)\n",
    "print(newString[1])\n",
    "\n",
    "age= 13\n",
    "#integer data type variable declaration and initialization.\n",
    "name =newString\n",
    "#string assignment to name variable using input() function\n",
    "txt= \"My name is {} . i am {} years old\"\n",
    "print(txt.format(name, age))"
   ]
  },
  {
   "cell_type": "markdown",
   "id": "e90bbbc3",
   "metadata": {},
   "source": [
    "Python numbers\n",
    "\n",
    "-int: These are integer values. They can be of any length, only limited by the available memory. For example, 10, 3, 45, etc.\n",
    "\n",
    "float: These are floating-point numbers, or real numbers, which have a decimal point in them. For example, 3.14, 10.55, etc.\n",
    "\n",
    "complex: These are complex numbers, with a real part and an imaginary part. For example, 3+4j.\n",
    "\n",
    "bool: This is a subtype of integers. They are used to represent boolean values True (which corresponds to 1) and False (which corresponds to 0).\n",
    "\n",
    "Decimal: These are decimal floating point numbers. They are present in the decimal module. They offer more precision and a smaller range than the float data type.\n",
    "\n",
    "Fraction: This data type is used for rational number arithmetic. They are present in the fractions module. They hold a numerator and a denominator in their simplest form."
   ]
  },
  {
   "cell_type": "code",
   "execution_count": 8,
   "id": "745df0ff",
   "metadata": {},
   "outputs": [
    {
     "name": "stdout",
     "output_type": "stream",
     "text": [
      "<class 'int'>\n",
      "<class 'float'>\n",
      "<class 'complex'>\n"
     ]
    }
   ],
   "source": [
    "x= 1\n",
    "y= 2.9\n",
    "z= 1j\n",
    "\n",
    "print(type(x))\n",
    "print(type(y))\n",
    "print(type(z))"
   ]
  },
  {
   "cell_type": "markdown",
   "id": "f8ff30db",
   "metadata": {},
   "source": [
    "strings in python"
   ]
  },
  {
   "cell_type": "code",
   "execution_count": 9,
   "id": "b6bbd19c",
   "metadata": {},
   "outputs": [
    {
     "ename": "TypeError",
     "evalue": "can't convert complex to float",
     "output_type": "error",
     "traceback": [
      "\u001b[1;31m---------------------------------------------------------------------------\u001b[0m",
      "\u001b[1;31mTypeError\u001b[0m                                 Traceback (most recent call last)",
      "Input \u001b[1;32mIn [9]\u001b[0m, in \u001b[0;36m<cell line: 1>\u001b[1;34m()\u001b[0m\n\u001b[1;32m----> 1\u001b[0m a\u001b[38;5;241m=\u001b[39m\u001b[38;5;28;43mfloat\u001b[39;49m\u001b[43m(\u001b[49m\u001b[43mz\u001b[49m\u001b[43m)\u001b[49m\n\u001b[0;32m      2\u001b[0m b\u001b[38;5;241m=\u001b[39m\u001b[38;5;28mcomplex\u001b[39m(x)\n\u001b[0;32m      3\u001b[0m c\u001b[38;5;241m=\u001b[39m y\n",
      "\u001b[1;31mTypeError\u001b[0m: can't convert complex to float"
     ]
    }
   ],
   "source": [
    "a=float(z)\n",
    "b=complex(x)\n",
    "c= y\n",
    "\n",
    "print(a)\n",
    "print(b)\n",
    "print(c)"
   ]
  },
  {
   "cell_type": "code",
   "execution_count": 12,
   "id": "59bff13b",
   "metadata": {},
   "outputs": [
    {
     "name": "stdout",
     "output_type": "stream",
     "text": [
      "69\n"
     ]
    }
   ],
   "source": [
    "import random\n",
    "\n",
    "print(random.randrange(0,100))"
   ]
  },
  {
   "cell_type": "markdown",
   "id": "371566b1",
   "metadata": {},
   "source": [
    "Python Lists\n",
    "\n",
    "Lists are an in built data type in Python\n",
    "which can store a collection of items\n",
    "data types like integers, floats, strings, and booleans, as well as more complex types like other lists, tuples, sets, dictionaries, and custom objects.\n",
    ". Here's an example:\n",
    "```python\n",
    "my_list = [1, 2, 'three', True]\n",
    "print(type(my_list)) # Output: <class 'list'>"
   ]
  },
  {
   "cell_type": "code",
   "execution_count": 8,
   "id": "7f531fa8",
   "metadata": {},
   "outputs": [
    {
     "name": "stdout",
     "output_type": "stream",
     "text": [
      "<class 'list'>\n",
      "4\n",
      "[1, 2.0, 'three', [4, 5], {'six': 6}, True]\n"
     ]
    }
   ],
   "source": [
    "newList= [\"jane\", \"mary\", 12, 19]\n",
    "print(type(newList))\n",
    "print(len(newList))\n",
    "\n",
    "my_list = [1, 2.0, \"three\", [4, 5], {\"six\": 6}, True]\n",
    "\n",
    "print(my_list)\n",
    "\n"
   ]
  },
  {
   "cell_type": "code",
   "execution_count": 12,
   "id": "2744daa2",
   "metadata": {},
   "outputs": [
    {
     "name": "stdout",
     "output_type": "stream",
     "text": [
      "four\n",
      "[1, 2, 3, 'fourth', 5.0, [6, 7]]\n",
      "[1, 2, 3, 'fourth', 5.0, [6, 7], 'end']\n",
      "[1, 2, 3, 'fourth', 5.0, [6, 7]]\n",
      "2\n",
      "['fourth', 5.0, [6, 7]]\n",
      "[1, 'inserted value here!', 3, 'fourth', 5.0, [6, 7]]\n"
     ]
    }
   ],
   "source": [
    "# Create a list\n",
    "my_list = [1, 2, 3, 'four', 5.0, [6, 7]]\n",
    "\n",
    "# Access an element of the list\n",
    "print(my_list[3])  # Output: 'four'\n",
    "\n",
    "# Modify an element of the list\n",
    "my_list[3] = 'fourth'\n",
    "print(my_list)  # Output: [1, 2, 3, 'fourth', 5.0, [6, 7]]\n",
    "\n",
    "# Add an element to the end of the list\n",
    "my_list.append('end')\n",
    "print(my_list)  # Output: [1, 2, 3, 'fourth', 5.0, [6, 7], 'end']\n",
    "\n",
    "# Remove an element from the list\n",
    "my_list.remove('end')\n",
    "print(my_list)  # Output: [1, 2, 3, 'fourth', 5.0, [6, 7]]\n",
    "\n",
    "#removing at specified index\n",
    "print(my_list.pop(1))\n",
    "# List slicing\n",
    "print(my_list[2:5])  # Output: [3, 'fourth', 5.0]\n",
    "\n",
    "#List inserting at a specified index\n",
    "my_list.insert(-4,'inserted value here!')\n",
    "print (my_list)\n"
   ]
  },
  {
   "cell_type": "markdown",
   "id": "3a50f036",
   "metadata": {},
   "source": [
    "Tuples"
   ]
  },
  {
   "cell_type": "code",
   "execution_count": 1,
   "id": "6dd28b0a",
   "metadata": {},
   "outputs": [
    {
     "name": "stdout",
     "output_type": "stream",
     "text": [
      "(7, 2, 0, 9, 7, 6, 0, 6)\n",
      "2\n",
      "8\n",
      "6\n",
      "(0, 9, 7, 6, 0, 6)\n",
      "subject not found\n",
      "(7, 2, 'kiwi', 9, 7, 6, 0, 6)\n"
     ]
    }
   ],
   "source": [
    "tuple1= (7, 2,0, 9, 7, 6,0,6)\n",
    "\n",
    "print(tuple1)\n",
    "print(tuple1[1])\n",
    "print(len(tuple1))\n",
    "print(tuple1[-3])\n",
    "print(tuple1[2:])\n",
    "\n",
    "thistuple = (\"john\", \"Mary\", \"cherry\")\n",
    "if \"apple\" in thistuple:\n",
    "  print(\"Yes, 'apple' is in the fruits tuple\")\n",
    "\n",
    "else:\n",
    "  print(\"subject not found\")\n",
    "\n",
    "  #to change a tuple\n",
    "  tuple2= list(tuple1)\n",
    "  tuple2[2]= \"kiwi\"\n",
    "  tuple1=tuple(tuple2)\n",
    "\n",
    "  print(tuple1)\n"
   ]
  },
  {
   "cell_type": "markdown",
   "id": "b36522a1",
   "metadata": {},
   "source": [
    "SETS\n",
    "\n",
    "In Python, a set is an unordered collection of unique elements. Sets are iterable, mutable, and have no duplicate elements. Python’s set class represents the mathematical notion of a set.\n",
    "\n"
   ]
  },
  {
   "cell_type": "code",
   "execution_count": 8,
   "id": "dae2b8bc",
   "metadata": {},
   "outputs": [
    {
     "name": "stdout",
     "output_type": "stream",
     "text": [
      "{9, 'apple', 'a', True}\n",
      "4\n",
      "9\n",
      "apple\n",
      "a\n",
      "True\n",
      "{True, 'a', 9, 'F', 'apple'}\n",
      "{True, 'a', 'fidelia', 9, 12, 'F', 'girl', 'apple'}\n",
      "None\n",
      "True\n",
      "None\n",
      "None\n"
     ]
    }
   ],
   "source": [
    "set1= {\"apple\", 9, 'a', True}\n",
    "\n",
    "print(set1)\n",
    "print(len(set1))\n",
    "for x in set1:\n",
    "    print (x)\n",
    "\n",
    "set1.add('F')\n",
    "print(set1)\n",
    "\n",
    "#To add items from another set into the current set, use the update() method.\n",
    "\n",
    "set2= { \"fidelia\", 12, \"girl\"}\n",
    "\n",
    "set1.update(set2)\n",
    "\n",
    "print(set1)\n",
    "\n",
    "#remove()  , discard() , pop() , clear () methods removes items from a set\n",
    "\n",
    "print(set1.remove(\"fidelia\"))\n",
    "print(set1.pop())\n",
    "print(set1.discard('1'))\n",
    "print(set1.clear())\n",
    "\n",
    "\n",
    "\n"
   ]
  },
  {
   "cell_type": "markdown",
   "id": "dbcc9f27",
   "metadata": {},
   "source": [
    "DICTIONARIES\n",
    "\n",
    "Dictionaries in Python are a kind of collection data type that stores mappings of unique keys to values. Dictionaries are mutable, which means they can be changed, and they are also dynamic, which means they can grow and shrink as needed. Dictionaries are also known as associative arrays or hash maps in other programming languages."
   ]
  },
  {
   "cell_type": "code",
   "execution_count": 11,
   "id": "fc2eb252",
   "metadata": {},
   "outputs": [
    {
     "name": "stdout",
     "output_type": "stream",
     "text": [
      "{'name': 'fidelia', 'age': 19, 'school': 'NUST'}\n",
      "19\n",
      "<built-in method keys of dict object at 0x000001F109FFFC80>\n",
      "<built-in method items of dict object at 0x000001F109FFFC80>\n",
      "<built-in method keys of dict object at 0x000001F109FFFC80>\n"
     ]
    }
   ],
   "source": [
    "dict1={\"name\":\"fidelia\", \"age\": 19, \"school\": \"NUST\"}\n",
    "\n",
    "print(dict1)\n",
    "print(dict1[\"age\"])\n",
    "print(dict1.keys)\n",
    "print(dict1.items)\n",
    "print(dict1.keys)"
   ]
  }
 ],
 "metadata": {
  "kernelspec": {
   "display_name": "Python 3 (ipykernel)",
   "language": "python",
   "name": "python3"
  },
  "language_info": {
   "codemirror_mode": {
    "name": "ipython",
    "version": 3
   },
   "file_extension": ".py",
   "mimetype": "text/x-python",
   "name": "python",
   "nbconvert_exporter": "python",
   "pygments_lexer": "ipython3",
   "version": "3.11.0"
  }
 },
 "nbformat": 4,
 "nbformat_minor": 5
}
