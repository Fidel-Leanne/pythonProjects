{
 "cells": [
  {
   "cell_type": "code",
   "execution_count": 14,
   "id": "9d130c77",
   "metadata": {},
   "outputs": [
    {
     "data": {
      "text/plain": [
       "int"
      ]
     },
     "execution_count": 14,
     "metadata": {},
     "output_type": "execute_result"
    }
   ],
   "source": [
    "type(7)"
   ]
  },
  {
   "cell_type": "code",
   "execution_count": 13,
   "id": "b549d0eb",
   "metadata": {},
   "outputs": [
    {
     "name": "stdout",
     "output_type": "stream",
     "text": [
      "fidelia\n",
      "kdwckancakncakcna,kc\n",
      "kasnc asknc aklvcadlcklcaC \n"
     ]
    }
   ],
   "source": [
    "name= \"fidelia\"\n",
    "\n",
    "newLine=\"\"\"kdwckancakncakcna,kc\n",
    "kasnc asknc aklvcadlcklcaC \"\"\"\n",
    "\n",
    "print(name)\n",
    "print(newLine)\n"
   ]
  },
  {
   "cell_type": "code",
   "execution_count": 19,
   "id": "d7202760",
   "metadata": {},
   "outputs": [
    {
     "name": "stdout",
     "output_type": "stream",
     "text": [
      "TELL ME YOUR NAMEfidelia\n",
      "fidelia\n"
     ]
    }
   ],
   "source": [
    "#strings are Arrays\n",
    "\n",
    "newString=input('TELL ME YOUR NAME')\n",
    "print(newString)"
   ]
  },
  {
   "cell_type": "markdown",
   "id": "e90bbbc3",
   "metadata": {},
   "source": [
    "Python numbers\n",
    "\n",
    "-int: These are integer values. They can be of any length, only limited by the available memory. For example, 10, 3, 45, etc.\n",
    "\n",
    "float: These are floating-point numbers, or real numbers, which have a decimal point in them. For example, 3.14, 10.55, etc.\n",
    "\n",
    "complex: These are complex numbers, with a real part and an imaginary part. For example, 3+4j.\n",
    "\n",
    "bool: This is a subtype of integers. They are used to represent boolean values True (which corresponds to 1) and False (which corresponds to 0).\n",
    "\n",
    "Decimal: These are decimal floating point numbers. They are present in the decimal module. They offer more precision and a smaller range than the float data type.\n",
    "\n",
    "Fraction: This data type is used for rational number arithmetic. They are present in the fractions module. They hold a numerator and a denominator in their simplest form."
   ]
  },
  {
   "cell_type": "code",
   "execution_count": 8,
   "id": "745df0ff",
   "metadata": {},
   "outputs": [
    {
     "name": "stdout",
     "output_type": "stream",
     "text": [
      "<class 'int'>\n",
      "<class 'float'>\n",
      "<class 'complex'>\n"
     ]
    }
   ],
   "source": [
    "x= 1\n",
    "y= 2.9\n",
    "z= 1j\n",
    "\n",
    "print(type(x))\n",
    "print(type(y))\n",
    "print(type(z))"
   ]
  },
  {
   "cell_type": "markdown",
   "id": "f8ff30db",
   "metadata": {},
   "source": [
    "strings in python"
   ]
  },
  {
   "cell_type": "code",
   "execution_count": 9,
   "id": "b6bbd19c",
   "metadata": {},
   "outputs": [
    {
     "ename": "TypeError",
     "evalue": "can't convert complex to float",
     "output_type": "error",
     "traceback": [
      "\u001b[1;31m---------------------------------------------------------------------------\u001b[0m",
      "\u001b[1;31mTypeError\u001b[0m                                 Traceback (most recent call last)",
      "Input \u001b[1;32mIn [9]\u001b[0m, in \u001b[0;36m<cell line: 1>\u001b[1;34m()\u001b[0m\n\u001b[1;32m----> 1\u001b[0m a\u001b[38;5;241m=\u001b[39m\u001b[38;5;28;43mfloat\u001b[39;49m\u001b[43m(\u001b[49m\u001b[43mz\u001b[49m\u001b[43m)\u001b[49m\n\u001b[0;32m      2\u001b[0m b\u001b[38;5;241m=\u001b[39m\u001b[38;5;28mcomplex\u001b[39m(x)\n\u001b[0;32m      3\u001b[0m c\u001b[38;5;241m=\u001b[39m y\n",
      "\u001b[1;31mTypeError\u001b[0m: can't convert complex to float"
     ]
    }
   ],
   "source": [
    "a=float(z)\n",
    "b=complex(x)\n",
    "c= y\n",
    "\n",
    "print(a)\n",
    "print(b)\n",
    "print(c)"
   ]
  },
  {
   "cell_type": "code",
   "execution_count": 12,
   "id": "59bff13b",
   "metadata": {},
   "outputs": [
    {
     "name": "stdout",
     "output_type": "stream",
     "text": [
      "69\n"
     ]
    }
   ],
   "source": [
    "import random\n",
    "\n",
    "print(random.randrange(0,100))"
   ]
  },
  {
   "cell_type": "code",
   "execution_count": null,
   "id": "7f531fa8",
   "metadata": {},
   "outputs": [],
   "source": []
  },
  {
   "cell_type": "code",
   "execution_count": null,
   "id": "6dd28b0a",
   "metadata": {},
   "outputs": [],
   "source": []
  }
 ],
 "metadata": {
  "kernelspec": {
   "display_name": "Python 3 (ipykernel)",
   "language": "python",
   "name": "python3"
  },
  "language_info": {
   "codemirror_mode": {
    "name": "ipython",
    "version": 3
   },
   "file_extension": ".py",
   "mimetype": "text/x-python",
   "name": "python",
   "nbconvert_exporter": "python",
   "pygments_lexer": "ipython3",
   "version": "3.9.12"
  }
 },
 "nbformat": 4,
 "nbformat_minor": 5
}
