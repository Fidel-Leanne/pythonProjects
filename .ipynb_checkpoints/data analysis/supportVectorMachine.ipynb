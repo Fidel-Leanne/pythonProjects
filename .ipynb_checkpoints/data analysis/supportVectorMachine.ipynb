{
 "cells": [
  {
   "cell_type": "code",
   "execution_count": 1,
   "metadata": {},
   "outputs": [],
   "source": [
    "import sys \n",
    "import pandas as pd\n",
    "import numpy as np\n",
    "import seaborn as sns\n",
    "import matplotlib as plt\n",
    "import scipy \n",
    "import sklearn as sk\n"
   ]
  },
  {
   "cell_type": "markdown",
   "metadata": {},
   "source": [
    "Support Vector Machine\n",
    "\n",
    "SVM is a supervised machine learning algorithm that can be used for both classification and regression. It performs classification by finding the hyperplane that best separates the classes of data.\n",
    "\n",
    "Key Concepts:\n",
    "Hyperplane: This is essentially a boundary that separates data into different classes. In a 2-dimensional space, it's a line. In higher dimensions, it could be a plane or some higher-dimensional boundary.\n",
    "\n",
    "Support Vectors: These are data points that are closest to the hyperplane and influence its orientation and position. The hyperplane is adjusted so that it's as far from these vectors (from all classes) as possible.\n",
    "\n",
    "Margin: The distance between the hyperplane and the nearest data point from any class. SVM aims to maximize this margin.\n",
    "\n",
    "Kernel: In cases where the data is not linearly separable, SVM uses a trick called the \"kernel trick\". A kernel transforms a non-separable dataset into a higher-dimensional space where it becomes separable. Common kernels include linear, polynomial, radial basis function (RBF), and sigmoid.\n",
    "\n",
    "Basic Workflow:\n",
    "Choose a type of kernel (e.g., linear, RBF).\n",
    "Split your data into training and testing sets.\n",
    "Train the SVM on the training data.\n",
    "Predict using the SVM on the test data.\n",
    "Evaluate its performance."
   ]
  },
  {
   "cell_type": "code",
   "execution_count": 2,
   "metadata": {},
   "outputs": [
    {
     "name": "stdout",
     "output_type": "stream",
     "text": [
      "Accuracy: 100.00%\n"
     ]
    }
   ],
   "source": [
    "from sklearn import datasets\n",
    "from sklearn.model_selection import train_test_split\n",
    "from sklearn.svm import SVC\n",
    "from sklearn.metrics import accuracy_score\n",
    "\n",
    "# Load dataset\n",
    "iris = datasets.load_iris()\n",
    "X = iris.data\n",
    "y = iris.target\n",
    "\n",
    "# Split dataset into training and testing sets\n",
    "X_train, X_test, y_train, y_test = train_test_split(X, y, test_size=0.3, random_state=42)\n",
    "\n",
    "# Create a SVM classifier with a radial basis function kernel\n",
    "clf = SVC(kernel='rbf', C=1, gamma=0.5) \n",
    "\n",
    "# Train the classifier\n",
    "clf.fit(X_train, y_train)\n",
    "\n",
    "# Predict the class labels\n",
    "y_pred = clf.predict(X_test)\n",
    "\n",
    "# Calculate accuracy\n",
    "accuracy = accuracy_score(y_test, y_pred)\n",
    "print(f\"Accuracy: {accuracy * 100:.2f}%\")\n"
   ]
  },
  {
   "cell_type": "code",
   "execution_count": null,
   "metadata": {},
   "outputs": [],
   "source": []
  }
 ],
 "metadata": {
  "kernelspec": {
   "display_name": "Python 3",
   "language": "python",
   "name": "python3"
  },
  "language_info": {
   "codemirror_mode": {
    "name": "ipython",
    "version": 3
   },
   "file_extension": ".py",
   "mimetype": "text/x-python",
   "name": "python",
   "nbconvert_exporter": "python",
   "pygments_lexer": "ipython3",
   "version": "3.11.0"
  },
  "orig_nbformat": 4
 },
 "nbformat": 4,
 "nbformat_minor": 2
}
