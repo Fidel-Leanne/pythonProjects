{
 "cells": [
  {
   "cell_type": "markdown",
   "metadata": {},
   "source": [
    "## Class 2: Linear Algebra and Stats in Python (continued)\n",
    "\n",
    "### Outline of this notebook\n",
    "* **getting some data**\n",
    "* **mean, median, mode**\n",
    "* **variance and standard deviation**\n",
    "* **covariance and correlation**\n",
    "* **histograms**\n",
    "* **scatter plots**\n",
    "* **random variables and distributions**\n",
    "* **the normal distribution - useful properties**\n",
    "* **the exponential distribution - useful properties**\n",
    "* **important properties of empirical distributions - skew and kurtosis**"
   ]
  },
  {
   "cell_type": "markdown",
   "metadata": {},
   "source": [
    "When you look at any collection of data, you want to be able to look at just a few numbers that provide a useful indication of how the whole collection behaves.\n",
    "\n",
    "Statistics is the study of those small sets of numbers that provide a useful indication of how any collection of numbers (arbitrarily large) behavies.\n",
    "\n",
    "We call these collections of numbers **distributions** and the smaller set of numbers that describe them as the **properties of distributions**."
   ]
  },
  {
   "cell_type": "code",
   "execution_count": 55,
   "metadata": {},
   "outputs": [],
   "source": [
    "import numpy as np\n",
    "from scipy import stats\n",
    "import requests\n",
    "import csv\n",
    "import pandas as pd\n",
    "\n",
    "%matplotlib inline\n",
    "import seaborn as sns\n",
    "import warnings\n",
    "warnings.filterwarnings('ignore')"
   ]
  },
  {
   "cell_type": "markdown",
   "metadata": {},
   "source": [
    "Ok, lets get some data that we can actually work with:"
   ]
  },
  {
   "cell_type": "code",
   "execution_count": 2,
   "metadata": {},
   "outputs": [
    {
     "name": "stdout",
     "output_type": "stream",
     "text": [
      "First five entries in iris_data:\n",
      "['5.1', '3.5', '1.4', '0.2', 'Iris-setosa']\n",
      "['4.9', '3.0', '1.4', '0.2', 'Iris-setosa']\n",
      "['4.7', '3.2', '1.3', '0.2', 'Iris-setosa']\n",
      "['4.6', '3.1', '1.5', '0.2', 'Iris-setosa']\n",
      "['5.0', '3.6', '1.4', '0.2', 'Iris-setosa']\n",
      "Last five entries in iris_data:\n",
      "['6.3', '2.5', '5.0', '1.9', 'Iris-virginica']\n",
      "['6.5', '3.0', '5.2', '2.0', 'Iris-virginica']\n",
      "['6.2', '3.4', '5.4', '2.3', 'Iris-virginica']\n",
      "['5.9', '3.0', '5.1', '1.8', 'Iris-virginica']\n",
      "['']\n"
     ]
    }
   ],
   "source": [
    "#Get iris dataset from online\n",
    "r = requests.get('https://archive.ics.uci.edu/ml/machine-learning-databases/iris/iris.data') #iris dataset on the internet\n",
    "iris_data = [str.split(row.decode('utf-8'),\",\")for row in r.iter_lines()]\n",
    "\n",
    "print(\"First five entries in iris_data:\")\n",
    "for row in iris_data[0:5]:\n",
    "    print(row)\n",
    "print(\"Last five entries in iris_data:\")\n",
    "for row in iris_data[-5:]:\n",
    "    print(row)"
   ]
  },
  {
   "cell_type": "code",
   "execution_count": 3,
   "metadata": {},
   "outputs": [
    {
     "data": {
      "text/plain": [
       "[['5.1', '3.5', '1.4', '0.2', 'Iris-setosa'],\n",
       " ['4.9', '3.0', '1.4', '0.2', 'Iris-setosa'],\n",
       " ['4.7', '3.2', '1.3', '0.2', 'Iris-setosa'],\n",
       " ['4.6', '3.1', '1.5', '0.2', 'Iris-setosa'],\n",
       " ['5.0', '3.6', '1.4', '0.2', 'Iris-setosa'],\n",
       " ['5.4', '3.9', '1.7', '0.4', 'Iris-setosa'],\n",
       " ['4.6', '3.4', '1.4', '0.3', 'Iris-setosa'],\n",
       " ['5.0', '3.4', '1.5', '0.2', 'Iris-setosa'],\n",
       " ['4.4', '2.9', '1.4', '0.2', 'Iris-setosa'],\n",
       " ['4.9', '3.1', '1.5', '0.1', 'Iris-setosa'],\n",
       " ['5.4', '3.7', '1.5', '0.2', 'Iris-setosa'],\n",
       " ['4.8', '3.4', '1.6', '0.2', 'Iris-setosa'],\n",
       " ['4.8', '3.0', '1.4', '0.1', 'Iris-setosa'],\n",
       " ['4.3', '3.0', '1.1', '0.1', 'Iris-setosa'],\n",
       " ['5.8', '4.0', '1.2', '0.2', 'Iris-setosa'],\n",
       " ['5.7', '4.4', '1.5', '0.4', 'Iris-setosa'],\n",
       " ['5.4', '3.9', '1.3', '0.4', 'Iris-setosa'],\n",
       " ['5.1', '3.5', '1.4', '0.3', 'Iris-setosa'],\n",
       " ['5.7', '3.8', '1.7', '0.3', 'Iris-setosa'],\n",
       " ['5.1', '3.8', '1.5', '0.3', 'Iris-setosa'],\n",
       " ['5.4', '3.4', '1.7', '0.2', 'Iris-setosa'],\n",
       " ['5.1', '3.7', '1.5', '0.4', 'Iris-setosa'],\n",
       " ['4.6', '3.6', '1.0', '0.2', 'Iris-setosa'],\n",
       " ['5.1', '3.3', '1.7', '0.5', 'Iris-setosa'],\n",
       " ['4.8', '3.4', '1.9', '0.2', 'Iris-setosa'],\n",
       " ['5.0', '3.0', '1.6', '0.2', 'Iris-setosa'],\n",
       " ['5.0', '3.4', '1.6', '0.4', 'Iris-setosa'],\n",
       " ['5.2', '3.5', '1.5', '0.2', 'Iris-setosa'],\n",
       " ['5.2', '3.4', '1.4', '0.2', 'Iris-setosa'],\n",
       " ['4.7', '3.2', '1.6', '0.2', 'Iris-setosa'],\n",
       " ['4.8', '3.1', '1.6', '0.2', 'Iris-setosa'],\n",
       " ['5.4', '3.4', '1.5', '0.4', 'Iris-setosa'],\n",
       " ['5.2', '4.1', '1.5', '0.1', 'Iris-setosa'],\n",
       " ['5.5', '4.2', '1.4', '0.2', 'Iris-setosa'],\n",
       " ['4.9', '3.1', '1.5', '0.1', 'Iris-setosa'],\n",
       " ['5.0', '3.2', '1.2', '0.2', 'Iris-setosa'],\n",
       " ['5.5', '3.5', '1.3', '0.2', 'Iris-setosa'],\n",
       " ['4.9', '3.1', '1.5', '0.1', 'Iris-setosa'],\n",
       " ['4.4', '3.0', '1.3', '0.2', 'Iris-setosa'],\n",
       " ['5.1', '3.4', '1.5', '0.2', 'Iris-setosa'],\n",
       " ['5.0', '3.5', '1.3', '0.3', 'Iris-setosa'],\n",
       " ['4.5', '2.3', '1.3', '0.3', 'Iris-setosa'],\n",
       " ['4.4', '3.2', '1.3', '0.2', 'Iris-setosa'],\n",
       " ['5.0', '3.5', '1.6', '0.6', 'Iris-setosa'],\n",
       " ['5.1', '3.8', '1.9', '0.4', 'Iris-setosa'],\n",
       " ['4.8', '3.0', '1.4', '0.3', 'Iris-setosa'],\n",
       " ['5.1', '3.8', '1.6', '0.2', 'Iris-setosa'],\n",
       " ['4.6', '3.2', '1.4', '0.2', 'Iris-setosa'],\n",
       " ['5.3', '3.7', '1.5', '0.2', 'Iris-setosa'],\n",
       " ['5.0', '3.3', '1.4', '0.2', 'Iris-setosa'],\n",
       " ['7.0', '3.2', '4.7', '1.4', 'Iris-versicolor'],\n",
       " ['6.4', '3.2', '4.5', '1.5', 'Iris-versicolor'],\n",
       " ['6.9', '3.1', '4.9', '1.5', 'Iris-versicolor'],\n",
       " ['5.5', '2.3', '4.0', '1.3', 'Iris-versicolor'],\n",
       " ['6.5', '2.8', '4.6', '1.5', 'Iris-versicolor'],\n",
       " ['5.7', '2.8', '4.5', '1.3', 'Iris-versicolor'],\n",
       " ['6.3', '3.3', '4.7', '1.6', 'Iris-versicolor'],\n",
       " ['4.9', '2.4', '3.3', '1.0', 'Iris-versicolor'],\n",
       " ['6.6', '2.9', '4.6', '1.3', 'Iris-versicolor'],\n",
       " ['5.2', '2.7', '3.9', '1.4', 'Iris-versicolor'],\n",
       " ['5.0', '2.0', '3.5', '1.0', 'Iris-versicolor'],\n",
       " ['5.9', '3.0', '4.2', '1.5', 'Iris-versicolor'],\n",
       " ['6.0', '2.2', '4.0', '1.0', 'Iris-versicolor'],\n",
       " ['6.1', '2.9', '4.7', '1.4', 'Iris-versicolor'],\n",
       " ['5.6', '2.9', '3.6', '1.3', 'Iris-versicolor'],\n",
       " ['6.7', '3.1', '4.4', '1.4', 'Iris-versicolor'],\n",
       " ['5.6', '3.0', '4.5', '1.5', 'Iris-versicolor'],\n",
       " ['5.8', '2.7', '4.1', '1.0', 'Iris-versicolor'],\n",
       " ['6.2', '2.2', '4.5', '1.5', 'Iris-versicolor'],\n",
       " ['5.6', '2.5', '3.9', '1.1', 'Iris-versicolor'],\n",
       " ['5.9', '3.2', '4.8', '1.8', 'Iris-versicolor'],\n",
       " ['6.1', '2.8', '4.0', '1.3', 'Iris-versicolor'],\n",
       " ['6.3', '2.5', '4.9', '1.5', 'Iris-versicolor'],\n",
       " ['6.1', '2.8', '4.7', '1.2', 'Iris-versicolor'],\n",
       " ['6.4', '2.9', '4.3', '1.3', 'Iris-versicolor'],\n",
       " ['6.6', '3.0', '4.4', '1.4', 'Iris-versicolor'],\n",
       " ['6.8', '2.8', '4.8', '1.4', 'Iris-versicolor'],\n",
       " ['6.7', '3.0', '5.0', '1.7', 'Iris-versicolor'],\n",
       " ['6.0', '2.9', '4.5', '1.5', 'Iris-versicolor'],\n",
       " ['5.7', '2.6', '3.5', '1.0', 'Iris-versicolor'],\n",
       " ['5.5', '2.4', '3.8', '1.1', 'Iris-versicolor'],\n",
       " ['5.5', '2.4', '3.7', '1.0', 'Iris-versicolor'],\n",
       " ['5.8', '2.7', '3.9', '1.2', 'Iris-versicolor'],\n",
       " ['6.0', '2.7', '5.1', '1.6', 'Iris-versicolor'],\n",
       " ['5.4', '3.0', '4.5', '1.5', 'Iris-versicolor'],\n",
       " ['6.0', '3.4', '4.5', '1.6', 'Iris-versicolor'],\n",
       " ['6.7', '3.1', '4.7', '1.5', 'Iris-versicolor'],\n",
       " ['6.3', '2.3', '4.4', '1.3', 'Iris-versicolor'],\n",
       " ['5.6', '3.0', '4.1', '1.3', 'Iris-versicolor'],\n",
       " ['5.5', '2.5', '4.0', '1.3', 'Iris-versicolor'],\n",
       " ['5.5', '2.6', '4.4', '1.2', 'Iris-versicolor'],\n",
       " ['6.1', '3.0', '4.6', '1.4', 'Iris-versicolor'],\n",
       " ['5.8', '2.6', '4.0', '1.2', 'Iris-versicolor'],\n",
       " ['5.0', '2.3', '3.3', '1.0', 'Iris-versicolor'],\n",
       " ['5.6', '2.7', '4.2', '1.3', 'Iris-versicolor'],\n",
       " ['5.7', '3.0', '4.2', '1.2', 'Iris-versicolor'],\n",
       " ['5.7', '2.9', '4.2', '1.3', 'Iris-versicolor'],\n",
       " ['6.2', '2.9', '4.3', '1.3', 'Iris-versicolor'],\n",
       " ['5.1', '2.5', '3.0', '1.1', 'Iris-versicolor'],\n",
       " ['5.7', '2.8', '4.1', '1.3', 'Iris-versicolor'],\n",
       " ['6.3', '3.3', '6.0', '2.5', 'Iris-virginica'],\n",
       " ['5.8', '2.7', '5.1', '1.9', 'Iris-virginica'],\n",
       " ['7.1', '3.0', '5.9', '2.1', 'Iris-virginica'],\n",
       " ['6.3', '2.9', '5.6', '1.8', 'Iris-virginica'],\n",
       " ['6.5', '3.0', '5.8', '2.2', 'Iris-virginica'],\n",
       " ['7.6', '3.0', '6.6', '2.1', 'Iris-virginica'],\n",
       " ['4.9', '2.5', '4.5', '1.7', 'Iris-virginica'],\n",
       " ['7.3', '2.9', '6.3', '1.8', 'Iris-virginica'],\n",
       " ['6.7', '2.5', '5.8', '1.8', 'Iris-virginica'],\n",
       " ['7.2', '3.6', '6.1', '2.5', 'Iris-virginica'],\n",
       " ['6.5', '3.2', '5.1', '2.0', 'Iris-virginica'],\n",
       " ['6.4', '2.7', '5.3', '1.9', 'Iris-virginica'],\n",
       " ['6.8', '3.0', '5.5', '2.1', 'Iris-virginica'],\n",
       " ['5.7', '2.5', '5.0', '2.0', 'Iris-virginica'],\n",
       " ['5.8', '2.8', '5.1', '2.4', 'Iris-virginica'],\n",
       " ['6.4', '3.2', '5.3', '2.3', 'Iris-virginica'],\n",
       " ['6.5', '3.0', '5.5', '1.8', 'Iris-virginica'],\n",
       " ['7.7', '3.8', '6.7', '2.2', 'Iris-virginica'],\n",
       " ['7.7', '2.6', '6.9', '2.3', 'Iris-virginica'],\n",
       " ['6.0', '2.2', '5.0', '1.5', 'Iris-virginica'],\n",
       " ['6.9', '3.2', '5.7', '2.3', 'Iris-virginica'],\n",
       " ['5.6', '2.8', '4.9', '2.0', 'Iris-virginica'],\n",
       " ['7.7', '2.8', '6.7', '2.0', 'Iris-virginica'],\n",
       " ['6.3', '2.7', '4.9', '1.8', 'Iris-virginica'],\n",
       " ['6.7', '3.3', '5.7', '2.1', 'Iris-virginica'],\n",
       " ['7.2', '3.2', '6.0', '1.8', 'Iris-virginica'],\n",
       " ['6.2', '2.8', '4.8', '1.8', 'Iris-virginica'],\n",
       " ['6.1', '3.0', '4.9', '1.8', 'Iris-virginica'],\n",
       " ['6.4', '2.8', '5.6', '2.1', 'Iris-virginica'],\n",
       " ['7.2', '3.0', '5.8', '1.6', 'Iris-virginica'],\n",
       " ['7.4', '2.8', '6.1', '1.9', 'Iris-virginica'],\n",
       " ['7.9', '3.8', '6.4', '2.0', 'Iris-virginica'],\n",
       " ['6.4', '2.8', '5.6', '2.2', 'Iris-virginica'],\n",
       " ['6.3', '2.8', '5.1', '1.5', 'Iris-virginica'],\n",
       " ['6.1', '2.6', '5.6', '1.4', 'Iris-virginica'],\n",
       " ['7.7', '3.0', '6.1', '2.3', 'Iris-virginica'],\n",
       " ['6.3', '3.4', '5.6', '2.4', 'Iris-virginica'],\n",
       " ['6.4', '3.1', '5.5', '1.8', 'Iris-virginica'],\n",
       " ['6.0', '3.0', '4.8', '1.8', 'Iris-virginica'],\n",
       " ['6.9', '3.1', '5.4', '2.1', 'Iris-virginica'],\n",
       " ['6.7', '3.1', '5.6', '2.4', 'Iris-virginica'],\n",
       " ['6.9', '3.1', '5.1', '2.3', 'Iris-virginica'],\n",
       " ['5.8', '2.7', '5.1', '1.9', 'Iris-virginica'],\n",
       " ['6.8', '3.2', '5.9', '2.3', 'Iris-virginica'],\n",
       " ['6.7', '3.3', '5.7', '2.5', 'Iris-virginica'],\n",
       " ['6.7', '3.0', '5.2', '2.3', 'Iris-virginica'],\n",
       " ['6.3', '2.5', '5.0', '1.9', 'Iris-virginica'],\n",
       " ['6.5', '3.0', '5.2', '2.0', 'Iris-virginica'],\n",
       " ['6.2', '3.4', '5.4', '2.3', 'Iris-virginica'],\n",
       " ['5.9', '3.0', '5.1', '1.8', 'Iris-virginica'],\n",
       " ['']]"
      ]
     },
     "execution_count": 3,
     "metadata": {},
     "output_type": "execute_result"
    }
   ],
   "source": [
    "iris_data"
   ]
  },
  {
   "cell_type": "markdown",
   "metadata": {},
   "source": [
    "We are going to have to clean it up a bit:"
   ]
  },
  {
   "cell_type": "code",
   "execution_count": 4,
   "metadata": {},
   "outputs": [
    {
     "name": "stdout",
     "output_type": "stream",
     "text": [
      "First five entries in iris_names:\n",
      "Iris-setosa\n",
      "Iris-setosa\n",
      "Iris-setosa\n",
      "Iris-setosa\n",
      "Iris-setosa\n",
      "First five entries in iris_data_cleaned:\n",
      "['5.1', '3.5', '1.4', '0.2']\n",
      "['4.9', '3.0', '1.4', '0.2']\n",
      "['4.7', '3.2', '1.3', '0.2']\n",
      "['4.6', '3.1', '1.5', '0.2']\n",
      "['5.0', '3.6', '1.4', '0.2']\n",
      "First five entries in iris_data_values_float:\n",
      "[5.1, 3.5, 1.4, 0.2]\n",
      "[4.9, 3.0, 1.4, 0.2]\n",
      "[4.7, 3.2, 1.3, 0.2]\n",
      "[4.6, 3.1, 1.5, 0.2]\n",
      "[5.0, 3.6, 1.4, 0.2]\n",
      "First five entries in iris_data_final:\n",
      "[5.1 3.5 1.4 0.2]\n",
      "[4.9 3.  1.4 0.2]\n",
      "[4.7 3.2 1.3 0.2]\n",
      "[4.6 3.1 1.5 0.2]\n",
      "[5.  3.6 1.4 0.2]\n"
     ]
    }
   ],
   "source": [
    "#Remove last line as it is empty\n",
    "iris_data_cleaned = iris_data[:-1]\n",
    "\n",
    "#Put last element in each entry into separate list\n",
    "iris_names = [row[-1] for row in iris_data_cleaned]\n",
    "print(\"First five entries in iris_names:\")\n",
    "for row in iris_names[0:5]:\n",
    "    print(row)\n",
    "\n",
    "#Put all elements but last in each entry into values list\n",
    "iris_data_values = [row[:-1] for row in iris_data_cleaned]\n",
    "print(\"First five entries in iris_data_cleaned:\")\n",
    "for row in iris_data_values[0:5]:\n",
    "    print(row)\n",
    "\n",
    "#Convert values into floats\n",
    "iris_data_values_float = [[float(value) for value in row] for row in iris_data_values]\n",
    "print(\"First five entries in iris_data_values_float:\")\n",
    "for row in iris_data_values_float[0:5]:\n",
    "    print(row)\n",
    "\n",
    "#Convert list of list of floats into matrix\n",
    "iris_data_final = np.array(iris_data_values_float)\n",
    "print(\"First five entries in iris_data_final:\")\n",
    "for row in iris_data_final[0:5]:\n",
    "    print(row)"
   ]
  },
  {
   "cell_type": "code",
   "execution_count": 5,
   "metadata": {},
   "outputs": [
    {
     "data": {
      "text/plain": [
       "array([[5.1, 3.5, 1.4, 0.2],\n",
       "       [4.9, 3. , 1.4, 0.2],\n",
       "       [4.7, 3.2, 1.3, 0.2],\n",
       "       [4.6, 3.1, 1.5, 0.2],\n",
       "       [5. , 3.6, 1.4, 0.2],\n",
       "       [5.4, 3.9, 1.7, 0.4],\n",
       "       [4.6, 3.4, 1.4, 0.3],\n",
       "       [5. , 3.4, 1.5, 0.2],\n",
       "       [4.4, 2.9, 1.4, 0.2],\n",
       "       [4.9, 3.1, 1.5, 0.1],\n",
       "       [5.4, 3.7, 1.5, 0.2],\n",
       "       [4.8, 3.4, 1.6, 0.2],\n",
       "       [4.8, 3. , 1.4, 0.1],\n",
       "       [4.3, 3. , 1.1, 0.1],\n",
       "       [5.8, 4. , 1.2, 0.2],\n",
       "       [5.7, 4.4, 1.5, 0.4],\n",
       "       [5.4, 3.9, 1.3, 0.4],\n",
       "       [5.1, 3.5, 1.4, 0.3],\n",
       "       [5.7, 3.8, 1.7, 0.3],\n",
       "       [5.1, 3.8, 1.5, 0.3],\n",
       "       [5.4, 3.4, 1.7, 0.2],\n",
       "       [5.1, 3.7, 1.5, 0.4],\n",
       "       [4.6, 3.6, 1. , 0.2],\n",
       "       [5.1, 3.3, 1.7, 0.5],\n",
       "       [4.8, 3.4, 1.9, 0.2],\n",
       "       [5. , 3. , 1.6, 0.2],\n",
       "       [5. , 3.4, 1.6, 0.4],\n",
       "       [5.2, 3.5, 1.5, 0.2],\n",
       "       [5.2, 3.4, 1.4, 0.2],\n",
       "       [4.7, 3.2, 1.6, 0.2],\n",
       "       [4.8, 3.1, 1.6, 0.2],\n",
       "       [5.4, 3.4, 1.5, 0.4],\n",
       "       [5.2, 4.1, 1.5, 0.1],\n",
       "       [5.5, 4.2, 1.4, 0.2],\n",
       "       [4.9, 3.1, 1.5, 0.1],\n",
       "       [5. , 3.2, 1.2, 0.2],\n",
       "       [5.5, 3.5, 1.3, 0.2],\n",
       "       [4.9, 3.1, 1.5, 0.1],\n",
       "       [4.4, 3. , 1.3, 0.2],\n",
       "       [5.1, 3.4, 1.5, 0.2],\n",
       "       [5. , 3.5, 1.3, 0.3],\n",
       "       [4.5, 2.3, 1.3, 0.3],\n",
       "       [4.4, 3.2, 1.3, 0.2],\n",
       "       [5. , 3.5, 1.6, 0.6],\n",
       "       [5.1, 3.8, 1.9, 0.4],\n",
       "       [4.8, 3. , 1.4, 0.3],\n",
       "       [5.1, 3.8, 1.6, 0.2],\n",
       "       [4.6, 3.2, 1.4, 0.2],\n",
       "       [5.3, 3.7, 1.5, 0.2],\n",
       "       [5. , 3.3, 1.4, 0.2],\n",
       "       [7. , 3.2, 4.7, 1.4],\n",
       "       [6.4, 3.2, 4.5, 1.5],\n",
       "       [6.9, 3.1, 4.9, 1.5],\n",
       "       [5.5, 2.3, 4. , 1.3],\n",
       "       [6.5, 2.8, 4.6, 1.5],\n",
       "       [5.7, 2.8, 4.5, 1.3],\n",
       "       [6.3, 3.3, 4.7, 1.6],\n",
       "       [4.9, 2.4, 3.3, 1. ],\n",
       "       [6.6, 2.9, 4.6, 1.3],\n",
       "       [5.2, 2.7, 3.9, 1.4],\n",
       "       [5. , 2. , 3.5, 1. ],\n",
       "       [5.9, 3. , 4.2, 1.5],\n",
       "       [6. , 2.2, 4. , 1. ],\n",
       "       [6.1, 2.9, 4.7, 1.4],\n",
       "       [5.6, 2.9, 3.6, 1.3],\n",
       "       [6.7, 3.1, 4.4, 1.4],\n",
       "       [5.6, 3. , 4.5, 1.5],\n",
       "       [5.8, 2.7, 4.1, 1. ],\n",
       "       [6.2, 2.2, 4.5, 1.5],\n",
       "       [5.6, 2.5, 3.9, 1.1],\n",
       "       [5.9, 3.2, 4.8, 1.8],\n",
       "       [6.1, 2.8, 4. , 1.3],\n",
       "       [6.3, 2.5, 4.9, 1.5],\n",
       "       [6.1, 2.8, 4.7, 1.2],\n",
       "       [6.4, 2.9, 4.3, 1.3],\n",
       "       [6.6, 3. , 4.4, 1.4],\n",
       "       [6.8, 2.8, 4.8, 1.4],\n",
       "       [6.7, 3. , 5. , 1.7],\n",
       "       [6. , 2.9, 4.5, 1.5],\n",
       "       [5.7, 2.6, 3.5, 1. ],\n",
       "       [5.5, 2.4, 3.8, 1.1],\n",
       "       [5.5, 2.4, 3.7, 1. ],\n",
       "       [5.8, 2.7, 3.9, 1.2],\n",
       "       [6. , 2.7, 5.1, 1.6],\n",
       "       [5.4, 3. , 4.5, 1.5],\n",
       "       [6. , 3.4, 4.5, 1.6],\n",
       "       [6.7, 3.1, 4.7, 1.5],\n",
       "       [6.3, 2.3, 4.4, 1.3],\n",
       "       [5.6, 3. , 4.1, 1.3],\n",
       "       [5.5, 2.5, 4. , 1.3],\n",
       "       [5.5, 2.6, 4.4, 1.2],\n",
       "       [6.1, 3. , 4.6, 1.4],\n",
       "       [5.8, 2.6, 4. , 1.2],\n",
       "       [5. , 2.3, 3.3, 1. ],\n",
       "       [5.6, 2.7, 4.2, 1.3],\n",
       "       [5.7, 3. , 4.2, 1.2],\n",
       "       [5.7, 2.9, 4.2, 1.3],\n",
       "       [6.2, 2.9, 4.3, 1.3],\n",
       "       [5.1, 2.5, 3. , 1.1],\n",
       "       [5.7, 2.8, 4.1, 1.3],\n",
       "       [6.3, 3.3, 6. , 2.5],\n",
       "       [5.8, 2.7, 5.1, 1.9],\n",
       "       [7.1, 3. , 5.9, 2.1],\n",
       "       [6.3, 2.9, 5.6, 1.8],\n",
       "       [6.5, 3. , 5.8, 2.2],\n",
       "       [7.6, 3. , 6.6, 2.1],\n",
       "       [4.9, 2.5, 4.5, 1.7],\n",
       "       [7.3, 2.9, 6.3, 1.8],\n",
       "       [6.7, 2.5, 5.8, 1.8],\n",
       "       [7.2, 3.6, 6.1, 2.5],\n",
       "       [6.5, 3.2, 5.1, 2. ],\n",
       "       [6.4, 2.7, 5.3, 1.9],\n",
       "       [6.8, 3. , 5.5, 2.1],\n",
       "       [5.7, 2.5, 5. , 2. ],\n",
       "       [5.8, 2.8, 5.1, 2.4],\n",
       "       [6.4, 3.2, 5.3, 2.3],\n",
       "       [6.5, 3. , 5.5, 1.8],\n",
       "       [7.7, 3.8, 6.7, 2.2],\n",
       "       [7.7, 2.6, 6.9, 2.3],\n",
       "       [6. , 2.2, 5. , 1.5],\n",
       "       [6.9, 3.2, 5.7, 2.3],\n",
       "       [5.6, 2.8, 4.9, 2. ],\n",
       "       [7.7, 2.8, 6.7, 2. ],\n",
       "       [6.3, 2.7, 4.9, 1.8],\n",
       "       [6.7, 3.3, 5.7, 2.1],\n",
       "       [7.2, 3.2, 6. , 1.8],\n",
       "       [6.2, 2.8, 4.8, 1.8],\n",
       "       [6.1, 3. , 4.9, 1.8],\n",
       "       [6.4, 2.8, 5.6, 2.1],\n",
       "       [7.2, 3. , 5.8, 1.6],\n",
       "       [7.4, 2.8, 6.1, 1.9],\n",
       "       [7.9, 3.8, 6.4, 2. ],\n",
       "       [6.4, 2.8, 5.6, 2.2],\n",
       "       [6.3, 2.8, 5.1, 1.5],\n",
       "       [6.1, 2.6, 5.6, 1.4],\n",
       "       [7.7, 3. , 6.1, 2.3],\n",
       "       [6.3, 3.4, 5.6, 2.4],\n",
       "       [6.4, 3.1, 5.5, 1.8],\n",
       "       [6. , 3. , 4.8, 1.8],\n",
       "       [6.9, 3.1, 5.4, 2.1],\n",
       "       [6.7, 3.1, 5.6, 2.4],\n",
       "       [6.9, 3.1, 5.1, 2.3],\n",
       "       [5.8, 2.7, 5.1, 1.9],\n",
       "       [6.8, 3.2, 5.9, 2.3],\n",
       "       [6.7, 3.3, 5.7, 2.5],\n",
       "       [6.7, 3. , 5.2, 2.3],\n",
       "       [6.3, 2.5, 5. , 1.9],\n",
       "       [6.5, 3. , 5.2, 2. ],\n",
       "       [6.2, 3.4, 5.4, 2.3],\n",
       "       [5.9, 3. , 5.1, 1.8]])"
      ]
     },
     "execution_count": 5,
     "metadata": {},
     "output_type": "execute_result"
    }
   ],
   "source": [
    "iris_data_final"
   ]
  },
  {
   "cell_type": "markdown",
   "metadata": {},
   "source": [
    "`iris_data_final` contains the properly formatted numeric data, so we will be using that to illustrate all of the statistics going forward."
   ]
  },
  {
   "cell_type": "code",
   "execution_count": 85,
   "metadata": {},
   "outputs": [],
   "source": [
    "## fast forward method using pandas\n",
    "#iris_data_final = pd.read_csv('https://archive.ics.uci.edu/ml/machine-learning-databases/iris/iris.data',header=None, usecols=[0,1,2,3])"
   ]
  },
  {
   "cell_type": "markdown",
   "metadata": {},
   "source": [
    "### mean, median, mode\n",
    "\n",
    "The **mean** is the arithmetic average of a group of values, found by dividing the total of all values by the number of values.\n",
    "\n",
    "The **median** is the middle value in a group of values, found by ordering the values from smallest to largest and locating the one that occurs in the middle. If the size of the group is even, it is found by averaging the middle two values.\n",
    "\n",
    "The **mode** is the value that occurs most often in a group of values, and is found by counting the frequency of every distinct value in the group and outputting the one that occurs most frequently.\n",
    "\n",
    "Let's compute each of these properties in turn on the columns in the `iris_data_final` matrix:"
   ]
  },
  {
   "cell_type": "code",
   "execution_count": 86,
   "metadata": {},
   "outputs": [
    {
     "name": "stdout",
     "output_type": "stream",
     "text": [
      "Shape of the data (rows,columns): (150, 4)\n",
      "Mean of each column: 0    5.843333\n",
      "1    3.054000\n",
      "2    3.758667\n",
      "3    1.198667\n",
      "dtype: float64\n",
      "Median of each column: [5.8  3.   4.35 1.3 ]\n",
      "Mode of each column: ModeResult(mode=array([[5. , 3. , 1.5, 0.2]]), count=array([[10, 26, 14, 28]]))\n"
     ]
    }
   ],
   "source": [
    "print(\"Shape of the data (rows,columns):\",iris_data_final.shape)\n",
    "print(\"Mean of each column:\",iris_data_final.mean(axis=0)) #must pass in an axis argument, otherwise will compute mean of entire matrix\n",
    "print(\"Median of each column:\",np.median(iris_data_final,axis=0))\n",
    "print(\"Mode of each column:\",stats.mode(iris_data_final,axis=0)) #implied axis=0 for this function"
   ]
  },
  {
   "cell_type": "code",
   "execution_count": 87,
   "metadata": {},
   "outputs": [
    {
     "data": {
      "text/plain": [
       "array([2.45, 2.2 , 2.25, 2.3 , 2.5 , 2.8 , 2.4 , 2.45, 2.15, 2.3 , 2.6 ,\n",
       "       2.5 , 2.2 , 2.05, 2.6 , 2.95, 2.6 , 2.45, 2.75, 2.65, 2.55, 2.6 ,\n",
       "       2.3 , 2.5 , 2.65, 2.3 , 2.5 , 2.5 , 2.4 , 2.4 , 2.35, 2.45, 2.8 ,\n",
       "       2.8 , 2.3 , 2.2 , 2.4 , 2.3 , 2.15, 2.45, 2.4 , 1.8 , 2.25, 2.55,\n",
       "       2.85, 2.2 , 2.7 , 2.3 , 2.6 , 2.35, 3.95, 3.85, 4.  , 3.15, 3.7 ,\n",
       "       3.65, 4.  , 2.85, 3.75, 3.3 , 2.75, 3.6 , 3.1 , 3.8 , 3.25, 3.75,\n",
       "       3.75, 3.4 , 3.35, 3.2 , 4.  , 3.4 , 3.7 , 3.75, 3.6 , 3.7 , 3.8 ,\n",
       "       4.  , 3.7 , 3.05, 3.1 , 3.05, 3.3 , 3.9 , 3.75, 3.95, 3.9 , 3.35,\n",
       "       3.55, 3.25, 3.5 , 3.8 , 3.3 , 2.8 , 3.45, 3.6 , 3.55, 3.6 , 2.75,\n",
       "       3.45, 4.65, 3.9 , 4.45, 4.25, 4.4 , 4.8 , 3.5 , 4.6 , 4.15, 4.85,\n",
       "       4.15, 4.  , 4.25, 3.75, 3.95, 4.25, 4.25, 5.25, 4.75, 3.6 , 4.45,\n",
       "       3.85, 4.75, 3.8 , 4.5 , 4.6 , 3.8 , 3.95, 4.2 , 4.4 , 4.45, 5.1 ,\n",
       "       4.2 , 3.95, 4.1 , 4.55, 4.5 , 4.3 , 3.9 , 4.25, 4.35, 4.1 , 3.9 ,\n",
       "       4.55, 4.5 , 4.1 , 3.75, 4.1 , 4.4 , 4.05])"
      ]
     },
     "execution_count": 87,
     "metadata": {},
     "output_type": "execute_result"
    }
   ],
   "source": [
    "np.median(iris_data_final,axis=1)"
   ]
  },
  {
   "cell_type": "markdown",
   "metadata": {},
   "source": [
    "### variance and standard deviation\n",
    "\n",
    "It is useful to get a sense of how the values in a dataset are spread about the average or the central value in that dataset. **Variance** and **standard deviation** are values that quantify that spread.\n",
    "\n",
    "The **variance** of a set of values, **$\\sigma^2$**, is the average of the square of the difference of the values in the dataset from the dataset's mean:\n",
    "\n",
    "\\begin{align}\n",
    "\\sigma^2 = \\frac{\\sum_{i=1}^{n}(x_i - \\mu)^2} {n}\\\n",
    "\\end{align}\n",
    "\n",
    "We square the differences to preserve the magnitude of the difference only (otherwise we would be adding and subtracting values, and lose the average magnitude). So, the variance is not on the same scale as the values themselves:"
   ]
  },
  {
   "cell_type": "code",
   "execution_count": 8,
   "metadata": {},
   "outputs": [
    {
     "name": "stdout",
     "output_type": "stream",
     "text": [
      "Variance of each column:\n",
      " [0.68112222 0.18675067 3.09242489 0.57853156]\n"
     ]
    }
   ],
   "source": [
    "print(\"Variance of each column:\\n\",iris_data_final.var(axis=0)) #must pass in an axis argument, otherwise will compute mean of entire matrix"
   ]
  },
  {
   "cell_type": "code",
   "execution_count": 9,
   "metadata": {},
   "outputs": [
    {
     "data": {
      "text/plain": [
       "array([0.68112222, 0.18675067, 3.09242489, 0.57853156])"
      ]
     },
     "execution_count": 9,
     "metadata": {},
     "output_type": "execute_result"
    }
   ],
   "source": [
    "np.var(iris_data_final,axis=0)"
   ]
  },
  {
   "cell_type": "markdown",
   "metadata": {},
   "source": [
    "The **standard deviation**, $\\sigma$, is the square root of the variance:\n",
    "\n",
    "\\begin{align}\n",
    "\\sigma = \\sqrt\\frac{\\sum_{i=1}^{n}(x_i - \\mu)^2} {n}\\\n",
    "\\end{align}\n",
    "\n",
    "We use the **standard deviation** much more regularly than the **variance** because it is on the same scale as the original data:"
   ]
  },
  {
   "cell_type": "code",
   "execution_count": 10,
   "metadata": {},
   "outputs": [
    {
     "name": "stdout",
     "output_type": "stream",
     "text": [
      "Standard deviation of each column:\n",
      " [0.82530129 0.43214658 1.75852918 0.76061262]\n"
     ]
    }
   ],
   "source": [
    "print(\"Standard deviation of each column:\\n\",iris_data_final.std(axis=0))#must pass in an axis argument, otherwise will compute mean of entire matrix"
   ]
  },
  {
   "cell_type": "markdown",
   "metadata": {},
   "source": [
    "### covariance and correlation\n",
    "\n",
    "So far, we've been looking at statistical properties of individual collections of data (in our case, columns of the `iris_data_final` matrix) by themselves. However, it is also useful to quantify how two collections of data vary with each other. **Covariance** and **correlation** measure this exact quantity.\n",
    "\n",
    "**Covariance**, like the variance, is a measure of spread, however it also measures how closely two datasets track each other. That is, **covariance** describes both how far the variables are spread out, and the nature of their relationship, whether they tend to increase and decrease together, or whether they do not track each other at all. Like **variance**,  the **covariance** is a squared quantity (again, to simply measure the magnitude of the spread and to avoid subtracting numbers from each other) so it is not on the same scale as the mean (and the **covariance** of different pairs of variables can have completely different scales):\n",
    "\n",
    "\\begin{align}\n",
    "Cov(x,y) = \\frac{\\sum_{i=1}^{n}(x_i - \\mu_x)(y_i - \\mu_y)} {n}\\\n",
    "\\end{align}\n",
    "\n",
    "When we look at the covariance of a dataset, we compute what is called a **covariance matrix**.\n",
    "\n",
    "This matrix is symmetric and tells us what all the paired covariance values are for every pair of rows (or columns) in our original matrix:"
   ]
  },
  {
   "cell_type": "code",
   "execution_count": 11,
   "metadata": {},
   "outputs": [
    {
     "name": "stdout",
     "output_type": "stream",
     "text": [
      "Original iris_data_final matrix shape: (150, 4)\n",
      "Columnar covariance matrix:\n",
      " [[ 0.68569351 -0.03926846  1.27368233  0.5169038 ]\n",
      " [-0.03926846  0.18800403 -0.32171275 -0.11798121]\n",
      " [ 1.27368233 -0.32171275  3.11317942  1.29638747]\n",
      " [ 0.5169038  -0.11798121  1.29638747  0.58241432]] (4, 4)\n"
     ]
    }
   ],
   "source": [
    "#have to take the transpose of iris_data_final, because np.cov computes row-based covariances\n",
    "#so if we take the transpose, our columns become our rows!\n",
    "iris_data_final_column_cov = np.cov(iris_data_final.T)\n",
    "print(\"Original iris_data_final matrix shape:\",iris_data_final.shape)\n",
    "print(\"Columnar covariance matrix:\\n\",iris_data_final_column_cov,iris_data_final_column_cov.shape)"
   ]
  },
  {
   "cell_type": "markdown",
   "metadata": {},
   "source": [
    "#### Exercise Time!!\n",
    "* Compute the row-based covariance matrix of `iris_data_final`. What does this matrix measure?"
   ]
  },
  {
   "cell_type": "code",
   "execution_count": 12,
   "metadata": {},
   "outputs": [],
   "source": [
    "pass"
   ]
  },
  {
   "cell_type": "markdown",
   "metadata": {},
   "source": [
    "**Correlation** is sort of like **standard deviation** generalized to pairs of datasets.\n",
    "\n",
    "Really, the **correlation** is a **covariance** scaled by each dataset's **standard deviation**, so that it can only take on values from -1 to +1. This allows us to compare two pairs of variables and quickly tell if one pair of datasets is more related than an other (since both values are scaled to the same range!):\n",
    "\n",
    "\\begin{align}\n",
    "r(x,y) = \\frac{cov(x,y)} {\\sigma_x\\sigma_y}\\\n",
    "\\end{align}\n",
    "\n",
    "Or this:\n",
    "\n",
    "\\begin{align}\n",
    "r(x,y) = \\frac{\\frac{\\sum_{i=1}^{n}(x_i-\\mu_x)(y_i-\\mu_y)} {n}} {\\sigma_x\\sigma_y}\\\n",
    "\\end{align}\n",
    "\n",
    "A positive correlation indicates the sets of values change together (when one increases or decreases the other does the same). A negative correlation indicates that the variables change in opposite directions (when one increases the other decreases).\n",
    "\n",
    "Just like the **covariance**, when we compute **correlations** for some dataset, we really compute a **correlation matrix** over all of the distinct sets of values in the dataset. The **correlation matrix** is symmetric, just like the **covariance matrix**:"
   ]
  },
  {
   "cell_type": "code",
   "execution_count": 13,
   "metadata": {},
   "outputs": [
    {
     "name": "stdout",
     "output_type": "stream",
     "text": [
      "Original iris_data_final matrix shape: (150, 4)\n",
      "Columnar covariance matrix:\n",
      " [[ 1.         -0.10936925  0.87175416  0.81795363]\n",
      " [-0.10936925  1.         -0.4205161  -0.35654409]\n",
      " [ 0.87175416 -0.4205161   1.          0.9627571 ]\n",
      " [ 0.81795363 -0.35654409  0.9627571   1.        ]] (4, 4)\n"
     ]
    }
   ],
   "source": [
    "#again, we have to take the transpose because otherwise we will get row-wise correlations.\n",
    "iris_data_final_column_corr = np.corrcoef(iris_data_final.T)\n",
    "print(\"Original iris_data_final matrix shape:\",iris_data_final.shape)\n",
    "print(\"Columnar covariance matrix:\\n\",iris_data_final_column_corr,iris_data_final_column_corr.shape)"
   ]
  },
  {
   "cell_type": "markdown",
   "metadata": {},
   "source": [
    "Lets take a look at the correlation matrix visually too:"
   ]
  },
  {
   "cell_type": "code",
   "execution_count": 14,
   "metadata": {},
   "outputs": [
    {
     "name": "stdout",
     "output_type": "stream",
     "text": [
      "The correlation matrix for the iris dataset:\n"
     ]
    },
    {
     "data": {
      "image/png": "[encoded data removed]",
      "text/plain": [
       "<Figure size 432x288 with 2 Axes>"
      ]
     },
     "metadata": {
      "needs_background": "light"
     },
     "output_type": "display_data"
    }
   ],
   "source": [
    "sns.heatmap(iris_data_final_column_corr)\n",
    "print(\"The correlation matrix for the iris dataset:\")"
   ]
  },
  {
   "cell_type": "markdown",
   "metadata": {},
   "source": [
    "#### Exercise Time!\n",
    "* Compute the row-based correlation matrix for `iris_data_final`.\n",
    "* Visualize the correlation matrix as a heatmap. Notice anything?\n",
    "* I've loaded in vertebral_data into a `NumPy` matrix called `vertebral_values_final` for you below:\n",
    "    * Compute the mean of each column. \n",
    "    * Compute the median of each column.\n",
    "    * Compute the mode of each column.\n",
    "    * What would it mean if the mean and the median for a given column are very far apart?\n",
    "    * What is useful about knowing the mode?\n",
    "    * Compute the variance and standard deviation of each column.\n",
    "    * Generate the columnar covariance and correlation matrices for this matrix.\n",
    "    * Do any columns appear to change together (based on their covariances/correlations)?\n",
    "    * What conclusions can we draw from these column-based statistics?\n",
    "    * If we had computed all of the row-based statistics here, what would their interpretation be?"
   ]
  },
  {
   "cell_type": "code",
   "execution_count": 15,
   "metadata": {},
   "outputs": [],
   "source": [
    "with open('../data/vertebral_column_2_categories.dat', 'r') as f:\n",
    "    vertebral_data = [row for row in csv.reader(f)]\n",
    "\n",
    "vertebral_data_parsed = [str.split(row[0],' ') for row in vertebral_data]\n",
    "vertebral_names = [row[-1] for row in vertebral_data_parsed]\n",
    "vertebral_values = [row[:-1] for row in vertebral_data_parsed]\n",
    "vertebral_values_float = [[float(value) for value in row] for row in vertebral_values]\n",
    "vertebral_values_final = np.array(vertebral_values_float)"
   ]
  },
  {
   "cell_type": "code",
   "execution_count": 16,
   "metadata": {},
   "outputs": [],
   "source": [
    "#This is where you write the code for your exercise.\n",
    "#Make sure you execute the cell just above this one so that vertebral_values_final is populated.\n",
    "pass"
   ]
  },
  {
   "cell_type": "markdown",
   "metadata": {},
   "source": [
    "### histograms\n",
    "\n",
    "A regular histogram is a very powerful, simple way to get a sense of the kinds of values a single set of data is comprised of. \n",
    "\n",
    "Let's take a look at the histogram of values for the first column in `iris_data_final`: "
   ]
  },
  {
   "cell_type": "code",
   "execution_count": 56,
   "metadata": {},
   "outputs": [
    {
     "name": "stdout",
     "output_type": "stream",
     "text": [
      "Histogram of first column of the iris dataset:\n"
     ]
    },
    {
     "data": {
      "image/png": "[encoded data removed]",
      "text/plain": [
       "<Figure size 360x360 with 1 Axes>"
      ]
     },
     "metadata": {
      "needs_background": "light"
     },
     "output_type": "display_data"
    }
   ],
   "source": [
    "sns.displot(iris_data_final[:,0],kde=False,bins=20)\n",
    "print(\"Histogram of first column of the iris dataset:\")"
   ]
  },
  {
   "cell_type": "markdown",
   "metadata": {},
   "source": [
    "The **x-axis shows us the actual range of values that the column takes on**. It looks like the first column ranges from just over 4 to just under 8.\n",
    "\n",
    "The **y-axis is a frequency count of the number of rows in the column that fall into each vertical bin**. So, the first bin (furthest to the left), which ranges from ~4.25 to ~4.75 contains 11 values."
   ]
  },
  {
   "cell_type": "markdown",
   "metadata": {},
   "source": [
    "We can also make **cumulative histograms**, which give us a graphical way to see what fraction of the datapoints are below or above a certain value:"
   ]
  },
  {
   "cell_type": "code",
   "execution_count": 57,
   "metadata": {},
   "outputs": [
    {
     "name": "stdout",
     "output_type": "stream",
     "text": [
      "Cumulative frequency histogram of 1st column:\n"
     ]
    },
    {
     "data": {
      "image/png": "[encoded data removed]",
      "text/plain": [
       "<Figure size 432x288 with 1 Axes>"
      ]
     },
     "metadata": {
      "needs_background": "light"
     },
     "output_type": "display_data"
    }
   ],
   "source": [
    "sns.distplot(iris_data_final[:,0], hist_kws={\"cumulative\":True},kde_kws={\"cumulative\":True})\n",
    "print(\"Cumulative frequency histogram of 1st column:\")"
   ]
  },
  {
   "cell_type": "markdown",
   "metadata": {},
   "source": [
    "### scatter plot\n",
    "\n",
    "When you want to visualize how two columns vary together, you can use a **scatter plot**. \n",
    "\n",
    "A scatter plot simply plots the value for each column per-row for the two columns you've chosen.\n",
    "\n",
    "Every dot in the scatter plot is an individual row. \n",
    "\n",
    "Let's generate the scatter plot for the first two columns in the iris dataset:"
   ]
  },
  {
   "cell_type": "code",
   "execution_count": 58,
   "metadata": {},
   "outputs": [
    {
     "data": {
      "text/plain": [
       "<matplotlib.collections.PathCollection at 0x1bc349c70>"
      ]
     },
     "execution_count": 58,
     "metadata": {},
     "output_type": "execute_result"
    },
    {
     "data": {
      "image/png": "[encoded data removed]",
      "text/plain": [
       "<Figure size 432x288 with 1 Axes>"
      ]
     },
     "metadata": {
      "needs_background": "light"
     },
     "output_type": "display_data"
    }
   ],
   "source": [
    "sns.mpl.pyplot.scatter(iris_data_final[:,0], iris_data_final[:,1])"
   ]
  },
  {
   "cell_type": "markdown",
   "metadata": {},
   "source": [
    "You can combine both a **scatter plot** and a **histogram** for a pair of columns very effectively using a `jointplot`:"
   ]
  },
  {
   "cell_type": "code",
   "execution_count": 59,
   "metadata": {},
   "outputs": [
    {
     "name": "stdout",
     "output_type": "stream",
     "text": [
      "Scatter plot with histograms for the first two columns in the iris dataset:\n"
     ]
    },
    {
     "data": {
      "image/png": "[encoded data removed]",
      "text/plain": [
       "<Figure size 432x432 with 3 Axes>"
      ]
     },
     "metadata": {
      "needs_background": "light"
     },
     "output_type": "display_data"
    }
   ],
   "source": [
    "sns.jointplot(x=iris_data_final[:,1], y=iris_data_final[:,0])\n",
    "print(\"Scatter plot with histograms for the first two columns in the iris dataset:\")"
   ]
  },
  {
   "cell_type": "markdown",
   "metadata": {},
   "source": [
    "#### Exercise Time!\n",
    "* Using the `vertebral_values_final` dataset:\n",
    "    * Compute the column-wise correlation matrix\n",
    "    * Visualize the scatter plot for two columns that are positively correlated\n",
    "    * Visualize the scatter plot for two columns that are negatively correlated (anti-correlated)"
   ]
  },
  {
   "cell_type": "code",
   "execution_count": 60,
   "metadata": {},
   "outputs": [],
   "source": [
    "pass"
   ]
  },
  {
   "cell_type": "markdown",
   "metadata": {},
   "source": [
    "## random variables and distributions \n",
    "\n",
    "A **random variable** is a variable whose value is subject to variations due to chance. A random variable can take on a set of possible different values (similarly to other mathematical variables), each with an associated probability. [random variable wiki](https://en.wikipedia.org/wiki/Random_variable)\n",
    "\n",
    "There are two kinds of random variables: **discrete** and **continuous**\n",
    "\n",
    "You know about **discrete** random variables, because you've flipped a coin (at some point in your life).\n",
    "\n",
    "For an unbiased coin, the random variable can take on the values **heads** or **tails**, each with probability $p= 0.5$ but you don't know when it will take on the value. Let's say we flipped a coin ten times, how many heads will we get?:"
   ]
  },
  {
   "cell_type": "code",
   "execution_count": 61,
   "metadata": {},
   "outputs": [
    {
     "name": "stdout",
     "output_type": "stream",
     "text": [
      "Num heads: 4\n",
      "Fraction heads: 0.4\n"
     ]
    }
   ],
   "source": [
    "n_trials = 10\n",
    "prob_heads = 0.5\n",
    "num_heads = np.random.binomial(n_trials, prob_heads)\n",
    "print(\"Num heads:\",num_heads)\n",
    "print(\"Fraction heads:\",float(num_heads)/n_trials) #this should be different for most people"
   ]
  },
  {
   "cell_type": "markdown",
   "metadata": {},
   "source": [
    "All of us should have different numbers! That's because you can only talk about the probabilities, not the outcomes (you only know the outcome of an experiment after it happens).\n",
    "\n",
    "What about **continuous** random variables?\n",
    "\n",
    "A **continuous random variable** is a random variable where the data can take infinitely many values.\n",
    "\n",
    "Think about how long it takes you to make your bed every morning. The experiment \"how long it takes Sergey to make his bed\" is a **continuous random variable** because it can take Sergey one of an infinitely many distinct times (30 seconds, 2.54 minutes, 0 minutes because he doesnt wake up on time and runs to work, etc.).\n",
    "\n",
    "Let's look at the amount of time it took Sergey to make his bed over the last week:"
   ]
  },
  {
   "cell_type": "code",
   "execution_count": 62,
   "metadata": {},
   "outputs": [
    {
     "name": "stdout",
     "output_type": "stream",
     "text": [
      "[2.43274767 0.50879503 2.98569462 1.20507401 1.10567323 1.24531388\n",
      " 1.27053975]\n"
     ]
    }
   ],
   "source": [
    "sergey_bed_making_minutes = np.random.exponential(size=7) ## This is generating 7 experiments from a specific probability distribution\n",
    "print(sergey_bed_making_minutes) # Everyone's values should be different, compare with your neighbor to make sure!"
   ]
  },
  {
   "cell_type": "markdown",
   "metadata": {},
   "source": [
    "#### Exercise Time!\n",
    "\n",
    "* Generate 100 coin flips, what fraction of them come up heads?\n",
    "* Generate 1,000 coin flips, what fraction of them come up heads?\n",
    "* Generate 100,000 coin flips, what fraction of them come up heads? Notice a pattern?\n",
    "* Generate 100 bed making experiments, whats the average bed making time?\n",
    "* Generate 1,000 bed making experiments, whats the average bed making time?\n",
    "* Generate 100,000 bed making experiments, whats the average bed making time? Notice a pattern?"
   ]
  },
  {
   "cell_type": "code",
   "execution_count": 63,
   "metadata": {},
   "outputs": [],
   "source": [
    "pass"
   ]
  },
  {
   "cell_type": "markdown",
   "metadata": {},
   "source": [
    "A **probability distribution** is a table or an equation that links each outcome of a statistical experiment with its probability of occurrence. [probability distribution wiki](https://en.wikipedia.org/wiki/Probability_distribution)\n",
    "\n",
    "That is, it is a distribution of probabilities over the values that a **random variable** can take on.\n",
    "\n",
    "There are lots of different kinds of distributions that statisticians have identified and studied. We will talk about just a few of them.\n",
    "\n",
    "**All of data science boils down to trying to find/capture differences between probability distributions across classes of objects, and combining those differences across many distributions into aggregate predictions.**"
   ]
  },
  {
   "cell_type": "markdown",
   "metadata": {},
   "source": [
    "### the binomial distribution\n",
    "\n",
    "The **binomial distribution** is a distribution over discrete values. It has two parameters, `n` and `p`, and is the discrete probability distribution of the number of successes in a sequence of n independent yes/no experiments, each of which yields success (yes) with probability `p`.\n",
    "\n",
    "A success/failure experiment is also called a Bernoulli experiment or Bernoulli trial; when n = 1 (a single coin flip), the binomial distribution is a Bernoulli distribution  [binomial distribution wiki](https://en.wikipedia.org/wiki/Binomial_distribution)\n",
    "\n",
    "So, heres the approximate probability distribution of the number of heads in 10 coin flips.\n",
    "\n",
    "We are going to generate the distribution by simulating 10,000 experiments where we flip a coin 10 times:"
   ]
  },
  {
   "cell_type": "code",
   "execution_count": 64,
   "metadata": {},
   "outputs": [
    {
     "name": "stdout",
     "output_type": "stream",
     "text": [
      "A binomial distribution for the number of heads in 10 coin flips:\n"
     ]
    },
    {
     "data": {
      "image/png": "[encoded data removed]",
      "text/plain": [
       "<Figure size 432x288 with 1 Axes>"
      ]
     },
     "metadata": {
      "needs_background": "light"
     },
     "output_type": "display_data"
    }
   ],
   "source": [
    "n_trials_binomial=10000\n",
    "binomial_data = np.random.binomial(n_trials,prob_heads,n_trials_binomial)\n",
    "sns.mpl.pyplot.hist(binomial_data,density=True,alpha=0.5)\n",
    "print(\"A binomial distribution for the number of heads in 10 coin flips:\")"
   ]
  },
  {
   "cell_type": "markdown",
   "metadata": {},
   "source": [
    "### the normal distribution\n",
    "\n",
    "The normal distribution is the most important distribution in all of statistics. It is a continuous probability distribution, unlike the binomial, which is discrete.\n",
    "\n",
    "It's super important because as datasets become larger and larger and larger, they tend to look more and more like the normal distribution.\n",
    "\n",
    "The normal distribution is fully specified by 2 parameters, $\\mu$ (its mean) and $\\sigma$ (its standard deviation).\n",
    "\n",
    "Nothing in the world actually perfectly mirrors a normal distribution, because its an idealized, mathematical object. It is simply a theoretical approximation of the kinds of things we tend to see in the world. However, there are many datasets that behave very similarly to a normal distribution. [normal distribution wiki](https://en.wikipedia.org/wiki/Normal_distribution)"
   ]
  },
  {
   "cell_type": "code",
   "execution_count": 65,
   "metadata": {},
   "outputs": [
    {
     "name": "stdout",
     "output_type": "stream",
     "text": [
      "100000 values sampled from the normal distribution with mean=0 standard deviation=1:\n"
     ]
    },
    {
     "data": {
      "image/png": "[encoded data removed]",
      "text/plain": [
       "<Figure size 432x288 with 1 Axes>"
      ]
     },
     "metadata": {
      "needs_background": "light"
     },
     "output_type": "display_data"
    }
   ],
   "source": [
    "mu = 0\n",
    "sigma = 1\n",
    "n_samples = 100000\n",
    "normal_data = np.random.normal(mu, sigma, n_samples)\n",
    "sns.distplot(normal_data)\n",
    "print(\"100000 values sampled from the normal distribution with mean=0 standard deviation=1:\")"
   ]
  },
  {
   "cell_type": "code",
   "execution_count": 66,
   "metadata": {},
   "outputs": [
    {
     "name": "stdout",
     "output_type": "stream",
     "text": [
      "CDF of normal distribution:\n"
     ]
    },
    {
     "data": {
      "image/png": "[encoded data removed]",
      "text/plain": [
       "<Figure size 432x288 with 1 Axes>"
      ]
     },
     "metadata": {
      "needs_background": "light"
     },
     "output_type": "display_data"
    }
   ],
   "source": [
    "sns.distplot(normal_data, hist_kws={\"cumulative\":True},kde_kws={\"cumulative\":True})\n",
    "print(\"CDF of normal distribution:\")"
   ]
  },
  {
   "cell_type": "markdown",
   "metadata": {},
   "source": [
    "Altering the $\\mu$ of the distribution alters its location:"
   ]
  },
  {
   "cell_type": "code",
   "execution_count": 67,
   "metadata": {},
   "outputs": [
    {
     "name": "stdout",
     "output_type": "stream",
     "text": [
      "100000 values sampled from three normal distributions with different mean=-3,0,5 and same standard deviation= 1:\n"
     ]
    },
    {
     "data": {
      "image/png": "[encoded data removed]",
      "text/plain": [
       "<Figure size 432x288 with 1 Axes>"
      ]
     },
     "metadata": {
      "needs_background": "light"
     },
     "output_type": "display_data"
    }
   ],
   "source": [
    "negative_mu = -3\n",
    "positive_mu = 3\n",
    "negative_mu_normal_data = np.random.normal(negative_mu, sigma, n_samples)\n",
    "positive_mu_normal_data = np.random.normal(positive_mu, sigma, n_samples)\n",
    "sns.distplot(negative_mu_normal_data)\n",
    "sns.distplot(positive_mu_normal_data)\n",
    "sns.distplot(normal_data)\n",
    "\n",
    "print(\"100000 values sampled from three normal distributions with different mean=-3,0,5 and same standard deviation= 1:\")"
   ]
  },
  {
   "cell_type": "code",
   "execution_count": 68,
   "metadata": {},
   "outputs": [
    {
     "name": "stdout",
     "output_type": "stream",
     "text": [
      "CDF of three normal distributions with different mean=-3,0,5 and same standard deviation= 1:\n"
     ]
    },
    {
     "data": {
      "image/png": "[encoded data removed]",
      "text/plain": [
       "<Figure size 432x288 with 1 Axes>"
      ]
     },
     "metadata": {
      "needs_background": "light"
     },
     "output_type": "display_data"
    }
   ],
   "source": [
    "sns.distplot(negative_mu_normal_data, hist_kws={\"cumulative\":True},kde_kws={\"cumulative\":True})\n",
    "sns.distplot(positive_mu_normal_data, hist_kws={\"cumulative\":True},kde_kws={\"cumulative\":True})\n",
    "sns.distplot(normal_data, hist_kws={\"cumulative\":True},kde_kws={\"cumulative\":True})\n",
    "print(\"CDF of three normal distributions with different mean=-3,0,5 and same standard deviation= 1:\")"
   ]
  },
  {
   "cell_type": "markdown",
   "metadata": {},
   "source": [
    "Altering the $\\sigma$ of the distribution alters its width:"
   ]
  },
  {
   "cell_type": "code",
   "execution_count": 69,
   "metadata": {},
   "outputs": [
    {
     "name": "stdout",
     "output_type": "stream",
     "text": [
      "100,000 values sampled from three normal distributions with the same mean = 0 but different standard deviations = 1,3,5:\n"
     ]
    },
    {
     "data": {
      "image/png": "[encoded data removed]",
      "text/plain": [
       "<Figure size 432x288 with 1 Axes>"
      ]
     },
     "metadata": {
      "needs_background": "light"
     },
     "output_type": "display_data"
    }
   ],
   "source": [
    "larger_sigma = 3\n",
    "largest_sigma = 5\n",
    "#Generate 2 collections of 100,000 samples from each distribution. \n",
    "larger_sigma_normal_data = np.random.normal(mu, larger_sigma, n_samples)\n",
    "largest_sigma_normal_data = np.random.normal(mu, largest_sigma, n_samples)\n",
    "#plot all 3 distributions on the same plot\n",
    "sns.distplot(largest_sigma_normal_data)\n",
    "sns.distplot(larger_sigma_normal_data)\n",
    "sns.distplot(normal_data)\n",
    "print(\"100,000 values sampled from three normal distributions with the same mean = 0 but different standard deviations = 1,3,5:\")"
   ]
  },
  {
   "cell_type": "code",
   "execution_count": 70,
   "metadata": {},
   "outputs": [
    {
     "name": "stdout",
     "output_type": "stream",
     "text": [
      "CDF for three normal distributions with the same mean = 0 but different standard deviations = 1,3,5:\n"
     ]
    },
    {
     "data": {
      "image/png": "[encoded data removed]",
      "text/plain": [
       "<Figure size 432x288 with 1 Axes>"
      ]
     },
     "metadata": {
      "needs_background": "light"
     },
     "output_type": "display_data"
    }
   ],
   "source": [
    "sns.distplot(largest_sigma_normal_data, hist_kws={\"cumulative\":True},kde_kws={\"cumulative\":True})\n",
    "sns.distplot(larger_sigma_normal_data, hist_kws={\"cumulative\":True},kde_kws={\"cumulative\":True})\n",
    "sns.distplot(normal_data, hist_kws={\"cumulative\":True},kde_kws={\"cumulative\":True})\n",
    "sns.mpl.pyplot.xlim((-10,10))\n",
    "print(\"CDF for three normal distributions with the same mean = 0 but different standard deviations = 1,3,5:\")"
   ]
  },
  {
   "cell_type": "markdown",
   "metadata": {},
   "source": [
    "### the exponential distribution\n",
    "\n",
    "The **exponential distribution** is another very common distribution (and the one we used for my bed-making example). In stats-speak, it is the probability distribution that describes the time between events in a Poisson process, i.e. a process in which events occur continuously and independently at a constant average rate. [exponential distribution wiki]()\n",
    "\n",
    "An example exponential distribution would describe the time between airplanes landing and taking off at LaGuardia airport during hours that the airport is operating.\n",
    "\n",
    "The exponential distribution is interesing because it has the property known as being **memoryless**. This means that knowing the history of the distribution has no effect on being able to predict what will happen next.\n",
    "\n",
    "If the average time between airplane landing/takeoff is 125s, but for the past 5 times it was 30s, 42s, 50s, 10s, and 40s, your best guess about the next successive take/off landing time difference is still 125s (there are no hot streaks in airplane landings)."
   ]
  },
  {
   "cell_type": "code",
   "execution_count": 71,
   "metadata": {},
   "outputs": [
    {
     "name": "stdout",
     "output_type": "stream",
     "text": [
      "The standard exponential distribution:\n"
     ]
    },
    {
     "data": {
      "image/png": "[encoded data removed]",
      "text/plain": [
       "<Figure size 432x288 with 1 Axes>"
      ]
     },
     "metadata": {
      "needs_background": "light"
     },
     "output_type": "display_data"
    }
   ],
   "source": [
    "e = np.random.exponential(size=n_samples)\n",
    "sns.mpl.pyplot.hist(e,bins=100,density=True)\n",
    "sns.mpl.pyplot.xlim((0,11))\n",
    "print(\"The standard exponential distribution:\")"
   ]
  },
  {
   "cell_type": "code",
   "execution_count": 72,
   "metadata": {},
   "outputs": [
    {
     "name": "stdout",
     "output_type": "stream",
     "text": [
      "CDF of exponential distribution:\n"
     ]
    },
    {
     "data": {
      "image/png": "[encoded data removed]",
      "text/plain": [
       "<Figure size 432x288 with 1 Axes>"
      ]
     },
     "metadata": {
      "needs_background": "light"
     },
     "output_type": "display_data"
    }
   ],
   "source": [
    "sns.distplot(e, hist_kws={\"cumulative\":True},kde_kws={\"cumulative\":True})\n",
    "sns.mpl.pyplot.xlim((0,11))\n",
    "print(\"CDF of exponential distribution:\")"
   ]
  },
  {
   "cell_type": "code",
   "execution_count": 73,
   "metadata": {},
   "outputs": [
    {
     "name": "stdout",
     "output_type": "stream",
     "text": [
      "100000 values sampled from three exponential distributions with beta=1,3,5:\n"
     ]
    },
    {
     "data": {
      "image/png": "[encoded data removed]",
      "text/plain": [
       "<Figure size 432x288 with 1 Axes>"
      ]
     },
     "metadata": {
      "needs_background": "light"
     },
     "output_type": "display_data"
    }
   ],
   "source": [
    "larger_beta = 3\n",
    "largest_beta = 5\n",
    "e2 = np.random.exponential(scale = larger_beta, size=n_samples)\n",
    "e3 = np.random.exponential(scale = largest_beta, size=n_samples)\n",
    "sns.mpl.pyplot.hist(e3,bins=100,alpha=0.5)\n",
    "sns.mpl.pyplot.hist(e2,bins=100,alpha=0.5)\n",
    "sns.mpl.pyplot.hist(e,bins=100)\n",
    "sns.mpl.pyplot.xlim((0,20))\n",
    "print(\"100000 values sampled from three exponential distributions with beta=1,3,5:\")"
   ]
  },
  {
   "cell_type": "code",
   "execution_count": 74,
   "metadata": {},
   "outputs": [
    {
     "name": "stdout",
     "output_type": "stream",
     "text": [
      "CDF of three exponential distributions with beta=1,3,5\n"
     ]
    },
    {
     "data": {
      "image/png": "[encoded data removed]",
      "text/plain": [
       "<Figure size 432x288 with 1 Axes>"
      ]
     },
     "metadata": {
      "needs_background": "light"
     },
     "output_type": "display_data"
    }
   ],
   "source": [
    "sns.distplot(e, hist_kws={\"cumulative\":True},kde_kws={\"cumulative\":True})\n",
    "sns.distplot(e2, hist_kws={\"cumulative\":True},kde_kws={\"cumulative\":True})\n",
    "sns.distplot(e3, hist_kws={\"cumulative\":True},kde_kws={\"cumulative\":True})\n",
    "sns.mpl.pyplot.xlim((0,20))\n",
    "print(\"CDF of three exponential distributions with beta=1,3,5\")"
   ]
  },
  {
   "cell_type": "markdown",
   "metadata": {},
   "source": [
    "**FYI:** $\\beta$ is the same as $\\frac {1} {\\lambda}$ for the other common parameterization of the exponential distribution. \n",
    "\n",
    "I like to use $\\beta$ instead of $\\lambda$ because $\\beta$ is much more interpretable.\n",
    "\n",
    "It is simply the rate/mean/standard deviation of the distribution. $\\beta$ is also known as the **survival parameter** of the distribution, because if the distribution is used to model a process that takes a certain time to occur, it is the mean **survival** time of that process."
   ]
  },
  {
   "cell_type": "markdown",
   "metadata": {},
   "source": [
    "### the uniform distribution\n",
    "\n",
    "The final distribution we will talk about is the **uniform distribution**. It simply describes cases where all values have the exact same frequency. It is a useful distribution because it is used for unbiased sampling (in cases where sampling is necessary).\n",
    "\n",
    "Here's an example uniform distribution over the values between 0 and 1:"
   ]
  },
  {
   "cell_type": "code",
   "execution_count": 75,
   "metadata": {},
   "outputs": [
    {
     "name": "stdout",
     "output_type": "stream",
     "text": [
      "The uniform distribution for the range of values between 0 and 1:\n"
     ]
    },
    {
     "data": {
      "image/png": "[encoded data removed]",
      "text/plain": [
       "<Figure size 432x288 with 1 Axes>"
      ]
     },
     "metadata": {
      "needs_background": "light"
     },
     "output_type": "display_data"
    }
   ],
   "source": [
    "uni = np.random.uniform(size=n_samples)\n",
    "sns.mpl.pyplot.hist(uni,bins=100,alpha=0.5,density=True)\n",
    "sns.mpl.pyplot.xlim((0,1))\n",
    "print(\"The uniform distribution for the range of values between 0 and 1:\")"
   ]
  },
  {
   "cell_type": "markdown",
   "metadata": {
    "collapsed": true
   },
   "source": [
    "### Skewness\n",
    "\n",
    "We are now going to talk about shape properties of all probability distributions. These are the two most common properties that\n",
    "\n",
    "**Skewness** is a measure of how \"skewed\" a distribution is. Right, what is \"skew\"? Really, it measures how asymmetrical a given distribution is around its mean value, and can only be computed for continuous distributions. [skewness wiki](https://en.wikipedia.org/wiki/Skewness)\n",
    "\n",
    "Here are two examples of skewness, demonstrating positive and negative skew:\n",
    "\n",
    "![Skewness](../data/images/skewness_example.png)\n",
    "\n",
    "Hopefully, you can tell that if these two examples were completely un-skewed, then they would follow the grey dotted lines for the distributions. Positive and negative skew is in reference to the tails of the distributions. **Positive skew** means that the right tail (the part greater than the mean) is bigger than it would be without skew. **Negative skew** means that the left tail (the part of the distribution less than the mean) is bigger than it would be without skew."
   ]
  },
  {
   "cell_type": "markdown",
   "metadata": {},
   "source": [
    "### Kurtosis\n",
    "\n",
    "**Krutosis** is a measure of the \"heavy-tailedness\" of a given probability distribution. [kurtosis wiki](https://en.wikipedia.org/wiki/Kurtosis)\n",
    "\n",
    "![Kurtosis](../data/images/kurtosis_example.png)"
   ]
  },
  {
   "cell_type": "code",
   "execution_count": null,
   "metadata": {},
   "outputs": [],
   "source": []
  }
 ],
 "metadata": {
  "kernelspec": {
   "display_name": "Python 3 (ipykernel)",
   "language": "python",
   "name": "python3"
  },
  "language_info": {
   "codemirror_mode": {
    "name": "ipython",
    "version": 3
   },
   "file_extension": ".py",
   "mimetype": "text/x-python",
   "name": "python",
   "nbconvert_exporter": "python",
   "pygments_lexer": "ipython3",
   "version": "3.9.12"
  },
  "toc": {
   "base_numbering": 1,
   "nav_menu": {},
   "number_sections": true,
   "sideBar": true,
   "skip_h1_title": false,
   "title_cell": "Table of Contents",
   "title_sidebar": "Contents",
   "toc_cell": false,
   "toc_position": {},
   "toc_section_display": true,
   "toc_window_display": false
  }
 },
 "nbformat": 4,
 "nbformat_minor": 1
}
