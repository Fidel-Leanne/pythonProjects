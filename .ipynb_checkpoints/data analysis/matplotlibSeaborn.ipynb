{
 "cells": [
  {
   "cell_type": "code",
   "execution_count": null,
   "metadata": {},
   "outputs": [],
   "source": [
    "import  matplotlib as plt\n",
    "import seaborn as sns\n",
    "import pandas as pd\n",
    "%matplotlib inline\n"
   ]
  },
  {
   "cell_type": "markdown",
   "metadata": {},
   "source": [
    "Line Chart"
   ]
  },
  {
   "cell_type": "code",
   "execution_count": null,
   "metadata": {},
   "outputs": [],
   "source": [
    "yeild_apples= [0.875,0.700,0.991,0.931] "
   ]
  },
  {
   "cell_type": "code",
   "execution_count": null,
   "metadata": {},
   "outputs": [],
   "source": [
    "plt.pyplot.plot(yeild_apples);"
   ]
  },
  {
   "cell_type": "code",
   "execution_count": null,
   "metadata": {},
   "outputs": [],
   "source": [
    "years= [2000,2001,2002,2003, 2004, 2005]\n",
    "yeild_apples= [0.85,0.89, 0.90, 0.95, 0.93,0.99]"
   ]
  },
  {
   "cell_type": "code",
   "execution_count": null,
   "metadata": {},
   "outputs": [],
   "source": [
    "plt.pyplot.plot(years, yeild_apples);"
   ]
  },
  {
   "cell_type": "markdown",
   "metadata": {},
   "source": [
    "axis for the labels"
   ]
  },
  {
   "cell_type": "code",
   "execution_count": null,
   "metadata": {},
   "outputs": [],
   "source": [
    "plt.pyplot.plot(years,yeild_apples)\n",
    "plt.pyplot.xlabel('years')\n",
    "plt.pyplot.ylabel('yeild_apples')\n"
   ]
  },
  {
   "cell_type": "markdown",
   "metadata": {},
   "source": [
    "ploting multiple lines"
   ]
  },
  {
   "cell_type": "code",
   "execution_count": null,
   "metadata": {},
   "outputs": [],
   "source": [
    "years=range(2000,2012)\n",
    "apples= [0.88,0.77,0.99, 0.715,0.730,0.79, 0.8,00.80,0.87,0.9, 0.75,0.66]\n",
    "oranges= [0.80,0.87,0.9, 0.75,0.91,0.95, 0.80,0.80,0.87,0.9, 0.75,0.66]"
   ]
  },
  {
   "cell_type": "code",
   "execution_count": null,
   "metadata": {},
   "outputs": [],
   "source": [
    "plt.pyplot.plot(years, apples)\n",
    "plt.pyplot.plot(years, oranges)\n",
    "plt.pyplot.xlabel('year')\n",
    "plt.pyplot.ylabel('Yeild (per hectare)')"
   ]
  },
  {
   "cell_type": "markdown",
   "metadata": {},
   "source": [
    "Chart title and legend"
   ]
  },
  {
   "cell_type": "code",
   "execution_count": null,
   "metadata": {},
   "outputs": [],
   "source": [
    "plt.pyplot.plot(years, apples)\n",
    "plt.pyplot.plot(years, oranges)\n",
    "\n",
    "plt.pyplot.xlabel('year')\n",
    "plt.pyplot.ylabel('Yeild (per hectare)')\n",
    "\n",
    "plt.pyplot.title('Crop Yields')\n",
    "plt.pyplot.legend(['apples', 'oranges'])"
   ]
  },
  {
   "cell_type": "markdown",
   "metadata": {},
   "source": [
    "line Makers\n",
    "\n",
    "In matplotlib, line markers are symbols used to represent data points in plots. For example, if you're plotting a line graph, you might use markers to indicate the exact data points along the line.\n",
    "\n",
    "Different Marker Styles:\n",
    "\n",
    "Here are a few commonly used marker styles:\n",
    "\n",
    "'o': Circle\n",
    "'s': Square\n",
    "'^': Upward pointing triangle\n",
    "'v': Downward pointing triangle\n",
    "'<': Left pointing triangle\n",
    "'>': Right pointing triangle\n",
    "'*': Star\n",
    "'h': Hexagon\n",
    "'+': Plus sign\n",
    "'x': X mark\n",
    "\n",
    "Marker Properties:\n",
    "\n",
    "markersize or ms: Adjusts the size of the marker.\n",
    "markerfacecolor or mfc: Adjusts the inside color of the marker.\n",
    "markeredgecolor or mec: Adjusts the edge color of the marker.\n",
    "python\n",
    "\n",
    "Combine Line Styles with Markers:\n",
    "\n",
    "'-': Solid line\n",
    "'--': Dashed line\n",
    "'-.': Dash-dot line\n",
    "':': Dotted line\n"
   ]
  },
  {
   "cell_type": "code",
   "execution_count": null,
   "metadata": {},
   "outputs": [],
   "source": [
    "plt.pyplot.plot(years, apples, 's-b')\n",
    "plt.pyplot.plot(years, oranges, 'o-r')\n",
    "\n",
    "plt.pyplot.xlabel('year')\n",
    "plt.pyplot.ylabel('Yeild (per hectare)')\n",
    "\n",
    "plt.pyplot.title('Crop Yields')\n",
    "plt.pyplot.legend(['apples', 'oranges'])"
   ]
  },
  {
   "cell_type": "markdown",
   "metadata": {},
   "source": [
    "Seaborn"
   ]
  },
  {
   "cell_type": "code",
   "execution_count": null,
   "metadata": {},
   "outputs": [],
   "source": [
    "sns.set_style('whitegrid')"
   ]
  },
  {
   "cell_type": "code",
   "execution_count": null,
   "metadata": {},
   "outputs": [],
   "source": [
    "plt.pyplot.plot(years, apples)\n",
    "plt.pyplot.plot(years, oranges)\n",
    "\n",
    "plt.pyplot.xlabel('year')\n",
    "plt.pyplot.ylabel('Yeild (per hectare)')\n",
    "\n",
    "plt.pyplot.title('Crop Yields')\n",
    "plt.pyplot.legend(['apples', 'oranges'])"
   ]
  },
  {
   "cell_type": "code",
   "execution_count": null,
   "metadata": {},
   "outputs": [],
   "source": [
    "sns.set_style=('navygrid')"
   ]
  },
  {
   "cell_type": "code",
   "execution_count": null,
   "metadata": {},
   "outputs": [],
   "source": [
    "plt.pyplot.plot(years, apples, 's-b')\n",
    "plt.pyplot.plot(years, oranges, 'o-r')\n",
    "\n",
    "plt.pyplot.xlabel('year')\n",
    "plt.pyplot.ylabel('Yeild (per hectare)')\n",
    "\n",
    "plt.pyplot.title('Crop Yields')\n",
    "plt.pyplot.legend(['apples', 'oranges'])"
   ]
  },
  {
   "cell_type": "markdown",
   "metadata": {},
   "source": [
    "Scatter Plots"
   ]
  },
  {
   "cell_type": "code",
   "execution_count": null,
   "metadata": {},
   "outputs": [],
   "source": [
    "flower_df=sns.load_dataset('iris')\n",
    "flower_df"
   ]
  },
  {
   "cell_type": "code",
   "execution_count": null,
   "metadata": {},
   "outputs": [],
   "source": [
    "flower_df.species.unique()"
   ]
  },
  {
   "cell_type": "code",
   "execution_count": null,
   "metadata": {},
   "outputs": [],
   "source": [
    "plt.pyplot.plot(flower_df.sepal_length, flower_df.sepal_width)"
   ]
  },
  {
   "cell_type": "code",
   "execution_count": null,
   "metadata": {},
   "outputs": [],
   "source": [
    "sns.scatterplot(x=flower_df.sepal_length,y= flower_df.sepal_width);"
   ]
  },
  {
   "cell_type": "markdown",
   "metadata": {},
   "source": [
    "Adding Hues"
   ]
  },
  {
   "cell_type": "code",
   "execution_count": null,
   "metadata": {},
   "outputs": [],
   "source": [
    "sns.scatterplot(x=flower_df.sepal_length, \n",
    "                 y=flower_df.sepal_width,\n",
    "                 hue=flower_df.species,\n",
    "                 s=100)"
   ]
  },
  {
   "cell_type": "markdown",
   "metadata": {},
   "source": [
    "Histograms \n",
    "\n",
    "Histograms are a great way to visualize the distribution of a dataset. In matplotlib, you can easily create histograms using the hist function of the pyplot module.\n",
    "\n",
    "Here's a basic guide on how to create histograms in matplotlib:\n",
    "\n",
    "\n"
   ]
  },
  {
   "cell_type": "code",
   "execution_count": null,
   "metadata": {},
   "outputs": [],
   "source": [
    "flower_df.describe()"
   ]
  },
  {
   "cell_type": "code",
   "execution_count": null,
   "metadata": {},
   "outputs": [],
   "source": [
    "plt.pyplot.title(\"Distribution of Sepalwidth\")\n",
    "plt.pyplot.hist(flower_df.sepal_width)"
   ]
  },
  {
   "cell_type": "code",
   "execution_count": null,
   "metadata": {},
   "outputs": [],
   "source": [
    "plt.pyplot.hist(flower_df.sepal_width, bins=5)"
   ]
  },
  {
   "cell_type": "markdown",
   "metadata": {},
   "source": [
    "Multiple Histrograms"
   ]
  },
  {
   "cell_type": "code",
   "execution_count": null,
   "metadata": {},
   "outputs": [],
   "source": [
    "setosa_df=flower_df[flower_df.species=='setosa']\n",
    "versicolor_df=flower_df[flower_df.species=='versicolor']\n",
    "virginica_df=flower_df[flower_df.species=='virginica']"
   ]
  },
  {
   "cell_type": "code",
   "execution_count": null,
   "metadata": {},
   "outputs": [],
   "source": [
    "import numpy as np"
   ]
  },
  {
   "cell_type": "code",
   "execution_count": null,
   "metadata": {},
   "outputs": [],
   "source": [
    "plt.pyplot.hist(setosa_df.sepal_width, alpha=0.4, bins=np.arange(2,5,0.25) );\n",
    "plt.pyplot.hist(virginica_df.sepal_width, alpha=0.4, bins=np.arange(2,5,0.25) );\n",
    "plt.pyplot.hist(versicolor_df.sepal_width, alpha=0.4, bins=np.arange(2,5,0.25) );\n",
    "plt.pyplot.legend([ 'Setosa', 'virginica', 'versicolor'])"
   ]
  },
  {
   "cell_type": "markdown",
   "metadata": {},
   "source": [
    "Displaying images in matplotlib"
   ]
  },
  {
   "cell_type": "code",
   "execution_count": null,
   "metadata": {},
   "outputs": [],
   "source": [
    "from urllib.request import urlretrieve"
   ]
  },
  {
   "cell_type": "code",
   "execution_count": null,
   "metadata": {},
   "outputs": [],
   "source": [
    "url= 'data:image/jpeg;base64,/9j/4AAQSkZJRgABAQAAAQABAAD/2wCEAAkGBwgHBgkIBwgKCgkLDRYPDQwMDRsUFRAWIB0iIiAdHx8kKDQsJCYxJx8fLT0tMTU3Ojo6Iys/RD84QzQ5OjcBCgoKDQwNGg8PGjclHyU3Nzc3Nzc3Nzc3Nzc3Nzc3Nzc3Nzc3Nzc3Nzc3Nzc3Nzc3Nzc3Nzc3Nzc3Nzc3Nzc3N//AABEIAHkAwQMBEQACEQEDEQH/xAAbAAACAwEBAQAAAAAAAAAAAAAFBgMEBwIBAP/EAEUQAAIBAwMBBAUIBwUIAwAAAAECAwAEEQUSITEGE0FRImFxkaEUFTJCgbHB0QczNFJz4fAWI1NysjU2YnSSosLxJVRV/8QAGwEAAwEBAQEBAAAAAAAAAAAAAwQFAgYBAAf/xAA7EQACAQMCBAIIBAYCAQUAAAABAgMABBESIQUTMUFRYRQiMnGBocHwI5Gx0QYzQlLh8RU0whYkU2Jy/9oADAMBAAIRAxEAPwB1065uG003F2Qt0i4CMuDyfKudMMbxHlt6wNdBOIhNy4x6poFPqVm9/EsFs8FxF6MpQ/T8+PbTsSxSqEx76qLbypCzO2VPTPauu10L/L7aWCIToIcNnnb7aVh5ag6e1ecMmURMrHBJ2ovpGiLKkd1JkXAiCqqnG0CtuGeQRIvQfn50hdX/AFRT6uatWOqmCWe1voNk0BG4BsjB5FCmikjbZdXjQ5bUOqyRtkGvgbu51IdxIhiALIrcZ8+a8hs5A5BPX9KGZIYo9Ljeg+p6ze2sixXyGCJn2swXkgdcVkWRjk1uc47VStbOGVdUR1HFFoZJbS6V1jDWk0QKOq8k+GfsoNyzp62nB+nlSMmh00k+sDQi/wBa06W6ZUQEo30geQaPEpwpXY96fhsZ9AYmiaiG70y3223escSAhuMjxzSza9WBSh1xTN62O1ELGWS6sGcxGFslSHXGSPH11uVWiYkHY9POlZ0WOTAOaES3OpyT/JYbbvGRDtOcZOetahjVgdW/lRIjbxqNTeGcVeS01P5rQxiBL8HLMT8K8AOogbDv416ZbbnHOdFdWmsKEjN0FjldckAggnpQHZowWAryW13OncV9JqFlqEot4Zdzg+ko8aZjV5ZOYQQAPl+9fejTQrrOwqHs7pwtxPOEjiV2I7vGW6+JNezEldArd9PrKrknHeq1nrMp7Q3lpI6Q2UAwSw28+rzoCI+hd8ZNFktUNqsiglzR19QijwSn0+RxTNxBLAAdGc1O5JPfpVC5ikggurq1nCF13ohGR/RpTOCA1NRsrOsbrnFdaXeNLaQCRY3kAG/A4FEmhkt8HqDWbmIK7EHAPSrj2tncuRKquCOhA4NYikRn2NLh5I9xUdxLHbtskK8DKkL0ArTxSXLELRI1MgyKUtbv5G1RbOy1F7jvWBNuFGEIGQc0xZgiAq2dO/xq1bWqGAySxgY70butA1C7061li1ApcADvE+qc9aJb2GmM9xnoal+m26O8bJsehHXyqL5n1X/9Ee6h+i23h86DzovA1Jq+rRR3MZQjDpiRW8jXkWrQZUGNVFhsjLGWzuOmKpBI769NxaW398ke4GMZx6z7qYj1yZbG4pKR7lI8SEhe3wrqfSL6/wBtwkvdOUIkVhtIYnjNeRsNWmUY/c0/w+8ijhAkGTnNMGmQR2cTLtHfD0XIYmvBdNAWjAGoUhITcHW1BbiCC61m7tr64CBkSQS5AIx4D3V7by+ksJNWOoPmKfkYx2qNGN8kUHbVFF9Mun3sYhRl2So27g9aYuZFBBWvOIO0EcYmTc+NRa/O2q3EdvLKO7RhtkHl40srs+7GleH3VzFKwtxnxpoubK4ubGFNHm2xQKojz9f1E+yvJijMNO4FHt51SRvSFySd6ES9l21S4kIX5G4cCV1Gdx8+fVW1kVnHgaej4mLVfVOqruoSLpAg05ZP7qGEkSdNx5ok4EMykDt8zSkcqzsZT7RPT44r1dbfUNOY2qvlEDNIq/R8/bU+9LSSKjdPvNZNvy7gx989/Oq2j6/bfIpZ5I2FwrhS3mPCiuNMeFXfx+lFuuGtDLhNwQT+9WD2osbbu7iQSuW4KV7br6wlcb18nDJphoU4FXbXULG509WtUVSRuQBBkHNZW6VJypU0KSCVJirnp1qhPbvaXttNbWbG4uroNONvRMHkfbii3Ok5051eFEE6sGSRvVC4X30Yupmlgl7nduTliq9MeFTVDTsUCnbr7/CkmxGMmliKRrLVe/nto7hbsLvaVc7OfOq0LmKPVjtVaJvSrQYYrp6Ad6Z30uJp0eyIEvOd7kqR45rCzzTShEbOevlUiWeQxENQRbq4vNeudKvEQJbpvBj6HGMA+o5o6xc1sP1FUWjht7VLiM7ttv517Hdx2/erE8bQ+JU4xRru0Dx4B9kUR4mkXJzmu7aJkt1ubS6D3DdN7ejz0FQ4owXMajBNKvNoXTONqpa1r3yXSWFyheXcMyRtginrLMA5Q6+NecPVbq50q2kefegurLFBcWOoaVEyyyxghlJJz668SQkFW6Vcsp1eN4p2yAacbC7u7iKJe/ieRly8cRyVOOprcTyvlEbPfauWnkh52UGwNffIdQ/xj76W9HfwPyp/0qDwqj2xsJJ9PjSwSMRQu00iKcMePDzrw38bKIc9DR+ESJBIS/cADwpc7D66bW4lYB3DxkEAevinQ7QPld6f47EJIAyjODTDDrEk98xmJRJOQvTHlmk51aVtY61ydvcCJzHIMUS7QA2MEc9tcHe5w6sepxRb2whIEhY6u+/Wvnu5EOQBigDaHK1jc6pql06NcDcgJyduOOPCtLb8mNewoommvtEOdODtil60vbOGyFrHZqYwzMWY5Y+YowYacMN662fhInOZ21HzonfWqXGhRXenkxFZcOJT1U8DFEZFVC3hUWOWHg91IrrkEA7dvKmDs5c6kLcRC3kmjCeiwHgKlNDO4zDv1zU57tZpmkZcA1d0q/u765ulhRFVWBJY+OP5V8yXAKjI6b1iOVHJ22FDtWlHdpZaiELKWOAu4vny+yq4lW5iOTjFPLywXcHfG29VtLvLjT7YxJYSmEghVCYIqVOjHod6nxSzbvIpI65qay7JSMHkEyRxt/eMvJy2eF9WKdtojPFnOK3Ne3ZlDM3b9ao6zp1nel45pGhuMd2jIeBj+QrMULRg6juKt2TXMILxnr4/KmXs9p8FpZQtbqcMo2Fjn2/bSDc9WVm6tuKmzyM8rluverWuXHyWBL1kDvC3HqzTsMrGQF9yM0O3tlmfQNqXNF7VxoL0zRspd+89HnGf/VHMpRJNPc03xOxWzMbs2Qdt/Ko9Y122a1QQWqss4IMrkjaRWIpg45RHSt8PtFvlJLHA7CpLPWnigiEKnvWBy2ODSSQvaO7oetIXkbRSmEgtj7386huLpYZflTXSG4nwZEiGGVSMck+FVVCqpdm3I7U1w+GWSBiyZB6ftVLtQAmm2ctpbSraKzZl2/SOM8kUAD1iVzjpVThE/wCI6znDbbUR7BWMk+lTXd5GO4ZvQEgPOOp9nSsXEGVMqnYUDjs0DzLGm5phksNLmt2Y2aSEHqFzj8qLYrFPaayMmudlBjkyNqF6y1sL63SEJ8nySQnTOOM19c2/MYBOhotvG3NXPfNDb3VGsTHFBHEJbjO2QLjafKvbmBomWRTgYq0/DVuIZCmxFHfkF/8A/fT40hq/+xqFok8aMJDE0a94gbjn3dKyYocD1c/Yo+t/GhS9nNJt7w3EcPdrswURsL7aNbASSlTuOvupp+IXHK0E96EaqujQndBvM8bYKbs5APT4UeYwgHQNxUu7zIea/Wq1perqutWMUoQQmUlo/PjofdWom5rhSNq3HZT3Fu1z0VennUP6QNTkGrC3hciMRJhF4HU0xcYJDV1fAbRDb8wjfJoDaYma4ywV4oWlBxxkYyPtzSDMV0sfGq0uUC+BIFMtvYS3FtaTxorWcTqrQ7s5I4zj7fjRWVzGzZ2+tcJxSNxeHVuCR9/CmcahBprFWKRAIoVfLHlQoL1YYMYrUiKQFoTHJL87XWpWNzGtm/VDk7yBzjy5piSPno0sRxVJVX0VYZE9bx+NSQ3yQ3DXOoxoBcKFjK+lwM9fLrS1k3KjYSbnrUS5UrJ6wxRG6tZ44xdmYsxKkoB0z66O9vPtIGydvh507bzq+I9PaiFrGkaEc5bltxzk0vDKYmKg9fn50CRdRzS52i06G2M2oQruKt3hQ848W+zpRBfa2aPG7d6q2lzI2iDx2oXpnauaS+SKREjidztVR9GgXD6YtPXTTlxweOOMup3HWmHUbuG4sLxOo7licD1daSt7vmNpjG9SE/AYSN2riz062l020RbZC0O2QYAGc9fbkZo6FiMMe+TWLtzcNrJyDuKX+2lrFcQxLZwvBbx7uiYG7jI59VOIVaUFds1mO9n4bjlgYNAbOG5kkSOCRO6RckyHBHqHrzXoXXnVTUfHy8Zyvr9/OoL+ZYLiRgSQ7cFjzjivojmul4fIs1qjDbanGHXJdN7H23csjys5TEgyAMk8j2YpyOXRFjvmoQtYr3iL/wBo8PEUJtu0d0HNtAI0jb6ij6IP/ul2ZxGSp2NNTcGt44Cy7EZ3ozqWufNukG2s32u6jMoP0eRk15Z3eIRENqicOhjmvFV9xgnfvQbR7O71iGaSA7baQlA8n1iOpHxr2dgrAId6t8VEaxhFbDjcEdqlt+y4tboTT3EtwS2I/S4XJHxoRuGmIQnakDxK5iiKkZB+96e8WX+P/wBwp30SCpfOb+2qI1B2s4blUJjkHDLz1OBUOf0hIwUTY0WFo3GSahtRHrN20D7+5tvSmIO0lj0X8aZ4TbSgMZ1xQLplZwiHp1pV7Safa6NdX6xGQRSQd7EzMcqxPTPj0+NPSRYuFUdK+4ZDrvo48Z3B+A6/KkdNVnik3rKQ+QQw6ijkAdBX6QY7dUKlQB4dqOXtve6pAuoidZJSpVw/BIHTFIcwZMZPeokd5Hbq6RDKg/QVFaWLrDNDcSjv5JNjRoDn3+QI6VsnURgdKVi4hLey6lOlE92c1oWhRyW9la2sUxJV17wMBznk1i4lltysPZs9unlUm7jYycwnNX9Q0S2vQpmd96qeh4Of50qpwukUrIokYE1W7vTBpTW9tCpdo8LsOCWI/E1SW9jRNAG32aNbyzKVbVkCl3U7W+a32rb3IkiYZBX0UHQc0mg1T7dzmp147SkvijcnaNoJBb3MEgkAUOfxo8s7vqUDOaYtkaTGlSSKtfPtu0pTcFZOCG4NQ7uWZXBCdKbjEbZGd6Ganqj383zfYxrM8qsr5OByPOi2qSNiQ7b0IXaxTqF3waX+xunyS6+41CJdtop3KGyGb8uaeuGVIyWHWq11xlLuMwRjGetOGrzxRWF/JHEPSgPHnwal210HbK7A4FSpgVQ58KvaW+zTLWMtuIhT0vPjFMz3GHKn3/rWIUOge6hfbDfNokoQFnVlIA9oH419au7OMbmsXa4hPwpV0zu7cJHe2neidQYic+jz9IAdfCqS5UjVtU+OJ9WNPXpRPVdEOmQi8YPfwgGX+6AHJwMEE5x4556UVoo43wH6j51fsYmuSsMr6SNsEdt+/vpXv755EUqu2AuSsK87en5V51DHvXT21rBYRnQvTqai0dJJtT+UTI62wI9JhjcPVXpcBAKQ4vxe1FoYUOS2371pGhWdnJBcT3OnxmEndDJIuQynPn7KYsUHLy671x2cvkVErQpJcfNtuEtkfAWFc+l4nA8zUniMmZjyR0qjaT5X8Q1W1i6ltLRpGikEgBfawwQgBJYj1UXhaYLGUYNUrV4pJdOdvvakn+0g/cb3GqvKhro/R4/7qeLqPULSKIKIvkYwREvLKRzUR3wE1N6uelcGiMuzDahuna3PbXN6Y4/RkILq/DBgMfdj3U9d3RXJj6GmFhW5uXKEYAGfHPuqhq0vz3O0tyQUaMRCMeo56+fJocczOw19qNd8OmtcXMD4K0Im7N21hfSEys6g5jVzkY/OimZiMUJuI3E8WiSQAHPvOO3xq9cKI41EDhwpJXHtpRFXm6j1zWDHHDa+o2c4/TeoI2mj1BrkoZFYtI58mx/M03EDqDdf90G2FzbgXAQ6G6/f1o3Y69LBexyyMpizmRI+T/Qr66xIVPcVfl4dPKV3wP1+/Gmr55t9qzLINmM+0VAaaT0gAKaQ9FfOg9a47PwRR6bGxUMskrSDPVTnj4VTupGjUeB2PwpKGIxAqDv+9FWl8zkeFIvcE7HeiaKzzt5JJa6vE652zordfEHB/CqNqrSJqz0rqeCxq8DA9j/qqfZydri+lspgro8LMpYcqRQryVxEG7gih8btI2hEmN84+RqXR/SvAu4xsI9qsPqkePvrUcoy2elcAq5kAFS2mo3NvcSC3QMzy4cActngc+2iXELT2nL91ahuDFKGxmi99aa1c2bs1m0IYYcBwTtOM9PupaDgk0TBiM07dXDyJhRivIrzU7O0hkvrF4Y3IjhycE4HiPDgGl7nhj45jHFbhvQihXWvdR1+zXRp1ZnlknUpsAxtB8aoWsEVtCz6izHahXN2JVwBQBdXeNrQpGBIsZX0vIijyA6Fz2oUt2GRNOxG1OpnjnSMK6tvjAwpz4dOK5+dvWO+9WoT6gas9udOWCecSyMixjdErLgsSen2YNXM4IKnPStP/EVyyEacHpVxI5YbILcRMpfbsL8YGPD1daHq5mrl+Nc9MSM6x3pzOoQXui/I7Nle4EQHc7uRjHWnJ7hVt9zvjpT1m0ZkUtuO9d9kyRZzloHhdJTEQx64A/OkSQUDrVC7dXfCdBV3V7eKa3umdQWa2kjz/wALDkfAUuCebnNBiQFh76yndaf4ae6n+bXY+hedOE/aG2eEIjFpEIfbjqKkMrjCsNs1xct1EyakoLZLca7qNy6OqycT8tjIz0FUJXVYSPvpSdrcTLOzx/1DcffhRC+7KTaVayala6hJMkY72SJk+pnLAf10ryOYnoB0qlf3txcxaM4FC9RnGod3JGCJAwKA9GU1uIOc1BlYbYNd3lp8n097tITCizBNuDnbnOR9uKM4Gttsb/SiBmKgnoKFPdSiVNrkBjkkHGaHGzhcZrt/4ekSeyIb+k4+HWvu9WNgnmMnPnmthSy5q5oLDNHez1hNqkc8cUwiMLK6s6kgE58qxrdDkVB4ySjI6HBOx921NNrcNptslneyIZAxxKn0ZM8/Z/KhXsyNAU6lfr/jeueTXzcyf1VOt4uOWyPbXNJKVbfpTxj8KW+2Gjaprd/Y/NkAlVIyCdwGw5zzmur4bqkiwKo8P4hb2aOsp3JoFo1heWuuzJe28tu8aFCsnGTjqMeFEdE1iOUfeDj50vxbiiXEIht23Jz7hvVnUoY7ZbZtOlkLkFZz6z4jypVE2Y9q5W5hNvIF71T0rWEs9Xt1lXeXnUtn93rmn7SbAwwzSwYCQE0/3HaC0MYC3S5GGO05JH9CqK3aBST2qkDGpyTtUOu6ta3emKsjBmZgU9TD+sfbUqSY3EbJ32/Omo7CScHldqTb5bdwiRkfQUEFs7iMZOfCvDb8sDfYUeT+HpjHqU+t4f5oO1u6Ryzs43RsTkHPXp8Kwd81BmieLMcgwQd6cew90jxvPn0ipBz5DH5n3VOvzoCnyNPcO3Ug1B2tAudQiMWOFUn1cnP30ayJe2XG25oF4MXIX3U23BtZYFjliiljjGNrgEA4xn21MkutG8XaqvIDjDilyW9ttMe6lihEe4qq7B0Aqo/NdIw4ycb0vJaG2VpBjBParOmdoI42njkBWNnDxsfHIAI+FB5E0VuAm+KxHdxNIQ23nUl/2jt1jkHeAsUwFz1zSUS3DS8wjaqCSW6uoZwN6z75G3k1VNYrsf8AkbT/AORfzFSxKWunf95cfD+VFvVww+FflMR9U0R0iZdNvFunOI+7MberJ6/EUC6h1xlaLbyhHDH3U0ydoIFtnjZgS0JBBPB4xiptssoYkdzVWSaMJ8M1W7FiKTUkEqIw+TlgrDIBBFdBw9wZCPKpSAFhnwo32ykT5JDLIuUEoDHHh1HxFM3hJwaNJstZrfo000PyPBVpmwScADGfwxQFUSDbtTPCOKf8fI+d1PaqLw39ze91DBliOhYYABGTnyrUIDeqO1db/wCo7QRhhmtO7Otb6ZpESwzLJ3wDyyj67fl4Uo06oCtSZ5fTn5vbt5f58aHdqryGcxQRnLN6bEDjHQfj7qSkZWPMWpt42jRGaHaXYandWssrtLHCSEQxsTgjwx1HhzTXLgMqtIoA7/lSKyTmMhWNO/ZS1k0/So0nD96/pPvJznpzVW0CRx+p3ogDEetVbtfanufnG3hMssKkuq/SZQD92TXl2isysDvTlg6xy+tgZ70ircreQ7oCXVgGz1K+qlGEhDKBTfHXiMCYxqz8u9BrLTHuZHmlkVJbeLcwB5OOcVpFVEyTsTXLadRI8KtWqtKxZEILYAGMk9cUXUuGA9/5V4VOAMV28VwjrC8MqNINwVlIJOduB59BQC2V1d81338OxJFZayep38ql1XSr7SbKGa7h7tXHoAtk58m8jXuWkbBqza3cNzIUjOcfe1RpcqmmybAN5kUbsZ4BBxXxYo+RXH/xPCqXAYdWH6bU1dhtDgurGeSWaQM0oYBT9U8kfb8KOtrFOTr3wdqnWoNtGk3UsD8MdKt9q9KtdMt7aa2id0aQRPuOdpOTuJ+zFDu7cRJ+HVWw0XsrmZRqxnPu+80vXuq75ZyjSRqykYXjDAdRUkW0QTUw3zUz09o5vEVxoc8yo9rdxqZGB7wuueGxgfacVW3D6PKjQyC8Olzsd6n7S2UVr3HcOixgAEk9WHHWk4p2eNg3WlruyQLzEGnB/wBUPnhZ4VuBjDx93geYyc16mTqWpzDAWru6P/Bj99M8keFY1ULeEwTTRPjfE7Dj281m4/FiWQfYNeAFGKGpLaISyNFPE0kTBD6OfRGRknHlXrJnG3atRqScAU0XT6bqMPdCCMJC42NGADjnjjzoMTNKWDdO1WrW0S4OCNhU1lImnRrcRRRhVG046gU+IzCocVVNjCw5YGD2qTUNRXUNKlVkClsjDefmPKsTXGuIE1FuLZkQlqQj6UTbBtEZL4H3fGhQpqO3SoxNS6RvuLnasTShmfvFQEkrwfDw4r22XMpHY/p9/rR1OYj7xV+bv4oUh9ODJysY9HoRxivrqNCCWUZwPrRIJZUIVSe9exWM0k5kMo3MwXaeoI8KT5JkiCqMYqmvCbl15rtufHw++1aPYxR20EdvEoVFGBgdfM0sZQ5Ga0sYRcCrvhg04jlffWTXNwVET467T9la5q6896zjIrO20O/mu50trJ7YEGSNidiyDI+wHn3CjwSS7aRSAiZ5QG6Z+Xekpr+WSYSoSjfWUcZ86bIVuor9Ns+EWlvA0KrlSc770+fo5tUvrR7u5d3kiuw6EnOCEx+PwFI3EgSUBRjY1A/iKGMSxoowAP3p7ZgzguqkqfRJHIpRpSetRQMDahnaLSk1jTxbORxKj5PkGG7/ALcivhLo9am7K6NrLrHgR8v3xSXrlnE3aSa1t0WNDIMKB6OdgJ9lNWfruAx6/Sol88076myQuBnwzvR3sTe7NNbfGkaq+1nB+mR1NHt5wsjKxrVvqeEDsKO31zBcWssUhRgVPDdM+HxFFkmVwwB8aYWNx7PWgVne9m7KwjintBcSyRg3GYg5BPUEn1+Ar6AwLEAVz8KYt+ETyIGAwPOq0mp2a6hK9gVS3XDCNVIz6I8PbmsMWMpKDaq9vw8xwBGXc/vVWJH1uI20qRpJM311/rB4rNyjoSSMk9aHxS0TkkL5b1F82Xk8E2n28e6RFIJGBtwePGkNaBi+cAn6CuU5L40AZIr7+yeq+cP/AFivOdB/d+tfeiS+H6UF1i7hl1eZoAcOTxnqfP303E2Y9JrF7GUuWHnUvZ/5TcXEENuuJGl2H1qeufUOtexviIg17bSPFOrJ9iiF7u0rUZLeWMBpCdsg8SPA+fXg0SFNS616DrXf28UUqc6Me/8Af31XTWO9jMMeGLBtyny9dVNAZQnjTTWek6jXcUUl/NBpYuMT900rSY6nDbcjyyPjUXiLrbtnGwrl+NNzblYU260wHstphDRNPONpG9eOWIznp6+lSZL944lDbZ3/ADqYthGSaE63oqdnoU1DSrtkkRwGWVgdxOB5eJxkUez4gedp7/TrQ5rYQxFlqmL251CYNP6RX0ufDAzxVC4nZ2wOmM/kdqTicqwfuKhfUmtNQYSKzm3mBGxfpjg8evFeSbOcfH8q7W34lbXEJBYKSNwa0a3uYriGOeBw8ci7lYeINRWGnAqSBmpluOSCeaHHeesVJr4x0P1zWPm23LoQZpG2ovq8TRbSRpJSx6fSlrhgiUh2Gt3CS3El1cTPDKjoGdydu7xx/XFVWf8ADx4YqfazmKdZH6ZoTN2R7Q29gdQbT5DADyF5fH720c4qlpYjWBX6MvGrRpNIfrTR+iK8SS2v4AeUdX+wjH4VKusiZSemKkcbmSZ0KntWgyY86E4Gairmonl2gUjczcpa0EzQsdl4ru+nvHncSynKkqCI/PHr9dV7FZpHBxgDevru5DWwgAA8+5x0oedOuNAiis5lWeKWdgkiDhi3PI8DS3EeHzG45i9KWtJVij0NSxq001sZbSRCm6QMd30lz9X2UeCAogLdRt8qr8CfnXbjwGR+dB3kkJ4kIHTPlRxIy+qa7EIo7V3DcvbzRyJjeDxnxoluTqLisvEHUg9KZpNUDxxy28bGQDfgDoOB+NG4iVlQIDua5PiDtaxP37VY0O7nBkdSHaQlSucElep/7qhcTt9ERIbGD+oFQeHvqc6u/wBKsf2jH+FJ7qj+hy/3VQ5iUk3EEqpBLFEzxXsAYME+i6/S5+zNdPzMOyjrSPHLYw30ngTmj/6NbqGI3azyZuVwEDdQniR9uP6NJ3UxjA8KBw9FZmPei/apIb7TZZYCDPB6a5x6a9SP68q94Xei2nKP0b610fD7tYHy59Tv+9IEN6tvdSTJE2TGSFKkcnw99X0lCOAT0NWZOKWpjwZBgd8ii3Z+4lXX7edsEuNvtXa3H2EZqdcoL18N0Y/L7FcQbj0niJkXof0xTLLevcawFZ2jEsPVR9Zc/hU3idvGpBx06UyrFLoxg7EUE1PWJhM6SKrpE4z5c5H8/tryyhEDLL3IpW9lLZjodYNsmk+lnuyM7vRwOgHvph2yn51OWp9SUJaRXKZExO1jny5FMlQ0OfeP0NZ71Pput3GnkxAZhzxF5HyHlUyeBZuuxp6C7eNj3HhRgdo5URXSDdllBJbIXPjSf/GbM5PSnX4gCAFXrQS9vZ72RJrhgWZSQB9UZPFU4oVhQAd8VLmmaV9TeFXuylrHqmsiwuI1a2jBkkO3rgjC/EfZVO2TnHSw2FDiXLVqjShaqFsHandOaz/tKyaB2ntLuwj2RTwOZkVQFbBycY8alX9oGPqbH6/5oXOMUwc9D1onFrtvcRrJBKjowyMNXMzPcxthlq1E0UgyhrqHUYrmTYsiswzlVOce2lZknccx1OkUTKA4B3pg0+Um3UsQfwrs+Eys9mhfr0/KpdwoEhxVqRY5ApkAbYdy5HQ+r11RyuRmg4zWXdroBLrN7sCjJBU5xzwcffUtyQ7/AP6/8ad4TdraXwdtlIIP50rIw7qbnlX+FZuBgiv0c9QfKubj9dbheST4Vu3cKpzXiuNLZrVbK3ik0mCxuo9yLGqsQcEkeuofpIaTVjbNcVM7CdpUO5zSxeW8ml6m8FsC7EM0YByWDYwKsyot3bsDt/iudB9FmAXc/Q/Zoz/Z+5/xF9xqb6KfGnsN4UF0rUHseylqyRSShQd21CQAck+zHFHRtF20pGw2/SnuPSa5XCbnNJ0SXDags2nuMs3oFTimmhWXtsa5dHZG22NMGlx3OrSvYG4294c7m5wozkD24FLMIYomcruPzx5UwjSzkRaqLS9ip54FeW5ihdHykaqWyg8z5mvjdAsshHWmls25ZTNKumzyRTQzxplo5C20nGFYYP3U1AST6vb65pKKTkyhz2q9JcG9m9L0dyMvHXGTSdxJqmBI2G1HuJi8hYbHpRbStAg1qG4jjuCXUALGRgyKDgn1cYpq3thMTvgjtQ9JJpisOwtvDpsa3Fw/y0r6Tryq8cjHl66cPDYypAO9a5QpW1TT50b5DJsGxgjEMODwfs4NBkTlxaO+aDHC8sojHerVlolpbywzXFx3kXQqVwPIUCO3TWCTkVfg4ToYltz4V3HpLwSfJ9PWSYSJIi7vqgnI59nn6qwyiMvp31DFLXXDzGFKHv8AlQ680abTpFt5vScZJOeMHJ4NLlgcDvt8qLa8GNwdTNgY9++/0xRPsVMLfW5cqAs8JVTnk4wfwPwqpZyKG096zPwea0Jfqo7/AOKdJ7sDHpc0ZphvQ1SlbtjeQmKGUkO8YYBCM5J6c+HQ141yGkEa7nFJ3Ue2TSRpaT31/C6kMQ/I6KFz4DwGKRnI0Ems2MLyyEIOg+tH7dBbi4W3ba4YkMo45J6/Ch8wSxcuQV0kPBuVhy+5zTfourRW9h/8ndRd7uJJVSB0HSi2EkMMRDHG560nLY3LMMDJ8qvnW7L5HPOtwrpChdtpyRj1VQ9KjwcHOKUltZYf5ikVmN/cpOjXMxfc6nqeV3cj3VKBBbJP9WfzBqYxz9+dLDyMsziJ2ZAdrBhz4ijkahiumsuPlIFikG4GAaY+yWky391DdXciiGGMSbOpLZxz5c0ndScpMDvn5Y/emo+MNODGBuOvxrQreRQeDUUMug0FxQKeeN+21tu2lRGDz5jJH4Vbt5f/AGxzUOdc3yjy/emvvpP36X9JaqGkUh6v2vU29vDAgjs44wsmeDnHQDy/OqN4BcAKCRj5mpS3WhjgZpR0e+MGoRwxOVt3fkMBk9cZorakXGaTZstkU7/o+2S3ly4I3RrgcdM+OfZn30rMfwwg7n7+VNWC5dj4U6XP7w6Dmp15uysPGrUdZOy9zrMqnMZhkbejjhlB6jjpj76rQAqdTd65yfZ2HnTnqEFrZ9n2tgIxNHGHMoXkPySc/D7KVd0eXSem37mqEijlE96qdgbtfnVkGe7Ns+0kc8OuB7qo2JAndR99KTiOSD5Gn9pxjrnI8arUwBWU6zqUV52muJ4Cyhpu7I8G2LjdUS5bW5I6ftReG4PEIz5/Q0cuIHnRYo+ehzTcEOa66N1QljV3TJ5rOYKxOcbT7DQbmEopxS1zGkq5FXtbtodQtA1w5ATJJHUjHSpYIYaielT47k2eSorP/lLQ3LRQ+hLA+Aw658D91a3UZ+NdKJI5YeYdwR0ondanqVvHD8oB9MbslduRxWA6s+A2RmuG58qJ643qj2fgute1hVucyIHWSVVPoKozx66PIxUFo/apaENMRq6d6f4+zOlROXgtFiY/ukjFIMZWwM/A1VgYW7FoxgmvrvRIorCRLJR35X6R+t400ilCCGpyO+ZpQZelLN3azWmjwTynO5mBQ+3ivVYCTBqxFKstwyLQx79iu4bdxGMAAcVqViX1U56MpOD0qfTdFbX0MdvIkckab33g4PPHxoltC82QDXLcdsEjfnJtnb49aET9mJra8limlRWViZMqfR44xjORWiTG+k7YFJxcImdUkVhvU2mWuoWYW7hZe7ZcKo8VPmPbWZ40kTSQck/7rC2l1FI0yDb9f9V2uu3pEsahYzHgsx+sOenl0pH/AI1ANRP3itNxIhQcVV0+9e51zvLjBLsvOemGHSqMIWONh5VKaVpJdZ7mn75wFc3rNXMis9vLa3urcyzRGRYMd6fq+GFPrrri0TKHHUCufLEE6aCSXEJu0jxiR23kj7h6uKxH6436V9pJGo0e7KawdL1B2J/u5Y9rH18YpaWN3jwvUUaznWKTLdDTI/bOK6wltA8i8AMpGGYjOM+WPGp7W8zlVfaq73cSb0Ml7ucOZWzPMN7c8ZYknHq/KrEihLPOdwB+tQnbW5PjQjWdXvJo3s5AvpYDOOCRSSxKGDimZZDoANWdIuZbOBJbeXYypneOQOuaJEWjnz0pfUQAV7US1PtFqzafIIZIWG0FnTrt8SKfeSQkqpztRhOWXzpWtHMdyHPIjHvJpAkaazDKYJVkHYitF0y/g+Rxu7DcRj3VcsyGjFdlIOYdSeyd68u9VgSEuMFwyqAOvJxWb7CxnNexxNnB6VY1G73WmxSOT+Vcmj6lx51EvPbAof2c0+JdfvdQ2kt3K4zyATx9wNOXDabcNXlvcyyfgE+qtENfZJZ7cTAMpEqnPlsqIjNzSR5UaVF9UHpv+hr7sLZrbae1zn05vHHgPCrNw2mXA8KQsU/Cz400rICPXS/NDU2Vrkuc0J5D0rWKWe2coTRHZyAI3Bz5UCxleRip7VU4b6s+ay+2vpZXCBdzc4A8fyropYQx2ro7m8ggQs5xWydkrCKw0WBkbfJcqssknmSOg9QHFO20axx+r3rhr+9N5Lr/AKe1BO35aG5t7hGKh0Ktg48R+dKXoIkUjvVfgbKYnRu37f4pTh1NIbKNHfChdvBxgDB++kdLPNp8Ko2iryUY+FR96l1Hc3ESfrFUKBz7aZ31FfD9q4riyhLgqowKqRARRwzkETSFynPRRgfEj4V7EQRpNTSMKDXXzpq3lWPQovCi+lPWlWOjW1tpM2nXCrJHMWMhx9IHofditRyZQDypswBMisXvNLnsu00ttOf1TsA5+sOi/hTUeNG1AdcKav2uxS65G9kO1CeWPFfIwGc0npJ6Ve0/a6Bo8Km/dgDwxikXIL5Pn9KZkJ0LU97KUvotpC5jHs4JplvWiKjuKW70N1qN5p/7sqoxyWP20G3A0etRpHyRUun7mspbeUC3IUpuHI6jkZ+2tHCS5NYxkYFdqzQwFVPohwAfPisJKVkyOhFfYytd2KWkUkU185WFw8hCjkAeiv50aPQGDPXuMnFQR3peF47eZjBkNGxyDtPjTbzck5SmrbiM9sNKnI86P6NYWk+jtPdSTd+kpO8ScqR0wPYal3l1LJJpPQ1ZN28kYLGoLfU2NjGrl3kx6ZPPOfD1Uq9oyfiD2anSTKz4PWruk9pUhW4jEZL7wM55x/7zTMlrJPbhUPShwXaRMSRVfUNf+co2MaNGEHDPxnIINJR2hilUv3+lGurpWXCdR9RTT2FvVu9GAGN0bspHkM8fCtT6jcEnoaJYkGEDuKP7sGkX8qexXrS+dLyTgDevAlL3bJEn0SWNwDvZQAfE5GKc4MA0+R3oN1JJDEWjODWazYsmWW39BeNw8CM+NdCFYZqLLcy3H8xs1pvZ3XbaDRLJJ5sbcQn/AITk9fVwKNBKFAU9qMjgRg/CgP6SdatboWNnaSq9x3pLbDnYuPH2/hWrkq2MdqagvWtmIXfVSoumiaW276c91IMlemPHrQwmPZ6mvW41KiiNRjG2asXcUnyaERwydyHEkrqvCADjnw5NLWbrrIc7nzqbIGYautcatKk0kLxN6MalfXj+hWUIBbzrx9lxVHvz+83vrzLUKtqn/WH2UGCrU/tVj/bf/e0fxI/9NUrTofdSTe03uqTs5/vKP4D/AHUpcewaBB7VT2f0H/zN/qpZ/bH34VqToKj1T9stv8v4mnF6LSh61BqXVf4YoX9bVo9q5HX/AKf9VfSdW+Nej2av237Hcf5T/qWvI+/uP0rS9KGa3+xxf8qn3imP6l930r5faqrpf6p/8ifdWZehrDe1Tdov+yZf4v8A4ikrj21quv8AJFCrb6Rp1/8Arr9+NIv/AD2qjYf7RufZ/wCVFtfY+FAf2amT9ll/h/jSk/8ANSjye03wpr/Rj+ru/YKHddE+NN8N/qp2P0qkN1qvUT9alXHt1sUD7VfsMf8AzCffVTgv8340pe/y6zbVv2Jvaf8AUK6/x++9c3F1FEbH9mPsFKJ7bfGiP0NAp/8AbTfxT+NaPei/1ijb/qrX+H/40wPZH32pZ/bPvrQLD/chf+WP+mubl/7y++rEP/X+FZWn6tvb+Aqq3WprdBUNeUOv/9k='\n",
    "urlretrieve(url, 'flower_png')"
   ]
  },
  {
   "cell_type": "code",
   "execution_count": null,
   "metadata": {},
   "outputs": [],
   "source": [
    "from PIL import Image"
   ]
  },
  {
   "cell_type": "code",
   "execution_count": null,
   "metadata": {},
   "outputs": [],
   "source": [
    "img= Image.open('flower_png')"
   ]
  },
  {
   "cell_type": "code",
   "execution_count": null,
   "metadata": {},
   "outputs": [],
   "source": [
    "type(img)"
   ]
  },
  {
   "cell_type": "code",
   "execution_count": null,
   "metadata": {},
   "outputs": [],
   "source": [
    "img_array=np.array(img)"
   ]
  },
  {
   "cell_type": "code",
   "execution_count": null,
   "metadata": {},
   "outputs": [],
   "source": [
    "img_array.shape"
   ]
  },
  {
   "cell_type": "code",
   "execution_count": null,
   "metadata": {},
   "outputs": [],
   "source": [
    "plt.pyplot.imshow(img_array)"
   ]
  },
  {
   "cell_type": "code",
   "execution_count": null,
   "metadata": {},
   "outputs": [],
   "source": [
    "img_array"
   ]
  },
  {
   "cell_type": "code",
   "execution_count": null,
   "metadata": {},
   "outputs": [],
   "source": [
    "pltp=plt.pyplot"
   ]
  },
  {
   "cell_type": "code",
   "execution_count": null,
   "metadata": {},
   "outputs": [],
   "source": [
    "pltp.grid(False)\n",
    "pltp.axis('off')\n",
    "pltp.imshow(img_array)"
   ]
  },
  {
   "cell_type": "markdown",
   "metadata": {},
   "source": [
    "Plotting multiples charts"
   ]
  },
  {
   "cell_type": "code",
   "execution_count": null,
   "metadata": {},
   "outputs": [],
   "source": [
    "pltp.subplots(2,3)\n",
    "pltp.tight_layout(pad =2)"
   ]
  },
  {
   "cell_type": "code",
   "execution_count": null,
   "metadata": {},
   "outputs": [],
   "source": [
    "fig , axes  = pltp.subplots(2,3)\n",
    "axes[0][1].set_title('Original')\n",
    "axes[0][1].imshow(img)\n",
    "\n",
    "axes[1,1].plot(years,apples , 'o--r')\n",
    "axes[1,1].plot(years,oranges,'^-b',label='Orange')\n",
    "\n",
    "axes[0,0].plot(years,apples , 'o--r')\n",
    "axes[0,0].plot(years,oranges,'^-b',label='Orange')\n",
    "\n",
    "axes[1,0].plot(years,apples , 'o--r' )\n",
    "axes[1,2].set_title('histogram')\n",
    "sns.histplot(flower_df.sepal_width, bins=5)\n",
    "\n",
    "pltp.tight_layout(pad=3)"
   ]
  },
  {
   "cell_type": "code",
   "execution_count": null,
   "metadata": {},
   "outputs": [],
   "source": [
    "axes"
   ]
  },
  {
   "cell_type": "code",
   "execution_count": null,
   "metadata": {},
   "outputs": [],
   "source": [
    "axes.shape"
   ]
  },
  {
   "cell_type": "code",
   "execution_count": null,
   "metadata": {},
   "outputs": [],
   "source": []
  }
 ],
 "metadata": {
  "kernelspec": {
   "display_name": "Python 3",
   "language": "python",
   "name": "python3"
  },
  "language_info": {
   "codemirror_mode": {
    "name": "ipython",
    "version": 3
   },
   "file_extension": ".py",
   "mimetype": "text/x-python",
   "name": "python",
   "nbconvert_exporter": "python",
   "pygments_lexer": "ipython3",
   "version": "3.11.0"
  },
  "orig_nbformat": 4
 },
 "nbformat": 4,
 "nbformat_minor": 2
}
